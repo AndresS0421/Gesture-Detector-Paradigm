{
 "cells": [
  {
   "cell_type": "code",
   "execution_count": 1,
   "metadata": {
    "id": "igMyGnjE9hEp"
   },
   "outputs": [],
   "source": [
    "import csv\n",
    "\n",
    "import numpy as np\n",
    "import tensorflow as tf\n",
    "from sklearn.model_selection import train_test_split\n",
    "\n",
    "RANDOM_SEED = 42"
   ]
  },
  {
   "cell_type": "markdown",
   "metadata": {
    "id": "t2HDvhIu9hEr"
   },
   "source": [
    "# Specify each path"
   ]
  },
  {
   "cell_type": "code",
   "execution_count": 2,
   "metadata": {
    "id": "9NvZP2Zn9hEy"
   },
   "outputs": [],
   "source": [
    "dataset = 'Model/keypoint_classifier/keypoint.csv'\n",
    "model_save_path = 'Model/keypoint_classifier/keypoint_classifier.keras'\n",
    "tflite_save_path = 'Model/keypoint_classifier/keypoint_classifier.tflite'"
   ]
  },
  {
   "cell_type": "markdown",
   "metadata": {
    "id": "s5oMH7x19hEz"
   },
   "source": [
    "# Set number of classes"
   ]
  },
  {
   "cell_type": "code",
   "execution_count": 3,
   "metadata": {
    "id": "du4kodXL9hEz"
   },
   "outputs": [],
   "source": [
    "NUM_CLASSES = 5"
   ]
  },
  {
   "cell_type": "markdown",
   "metadata": {
    "id": "XjnL0uso9hEz"
   },
   "source": [
    "# Dataset reading"
   ]
  },
  {
   "cell_type": "code",
   "execution_count": 4,
   "metadata": {
    "id": "QT5ZqtEz9hE0"
   },
   "outputs": [],
   "source": [
    "X_dataset = np.loadtxt(dataset, delimiter=',', dtype='float32', usecols=list(range(1, (21 * 2) + 1)))"
   ]
  },
  {
   "cell_type": "code",
   "execution_count": 5,
   "metadata": {
    "id": "QmoKFsp49hE0"
   },
   "outputs": [],
   "source": [
    "y_dataset = np.loadtxt(dataset, delimiter=',', dtype='int32', usecols=(0))"
   ]
  },
  {
   "cell_type": "code",
   "execution_count": 6,
   "metadata": {
    "id": "xQU7JTZ_9hE0"
   },
   "outputs": [],
   "source": [
    "X_train, X_test, y_train, y_test = train_test_split(X_dataset, y_dataset, train_size=0.75, random_state=RANDOM_SEED)"
   ]
  },
  {
   "cell_type": "markdown",
   "metadata": {
    "id": "mxK_lETT9hE0"
   },
   "source": [
    "# Model building"
   ]
  },
  {
   "cell_type": "code",
   "execution_count": 7,
   "metadata": {
    "id": "vHBmUf1t9hE1"
   },
   "outputs": [],
   "source": [
    "model = tf.keras.models.Sequential([\n",
    "    tf.keras.layers.Input((21 * 2, )),\n",
    "    tf.keras.layers.Dropout(0.2),\n",
    "    tf.keras.layers.Dense(20, activation='relu'),\n",
    "    tf.keras.layers.Dropout(0.4),\n",
    "    tf.keras.layers.Dense(10, activation='relu'),\n",
    "    tf.keras.layers.Dense(NUM_CLASSES, activation='softmax')\n",
    "])"
   ]
  },
  {
   "cell_type": "code",
   "execution_count": 8,
   "metadata": {
    "colab": {
     "base_uri": "https://localhost:8080/"
    },
    "id": "ypqky9tc9hE1",
    "outputId": "5db082bb-30e3-4110-bf63-a1ee777ecd46"
   },
   "outputs": [
    {
     "data": {
      "text/html": [
       "<pre style=\"white-space:pre;overflow-x:auto;line-height:normal;font-family:Menlo,'DejaVu Sans Mono',consolas,'Courier New',monospace\"><span style=\"font-weight: bold\">Model: \"sequential\"</span>\n",
       "</pre>\n"
      ],
      "text/plain": [
       "\u001b[1mModel: \"sequential\"\u001b[0m\n"
      ]
     },
     "metadata": {},
     "output_type": "display_data"
    },
    {
     "data": {
      "text/html": [
       "<pre style=\"white-space:pre;overflow-x:auto;line-height:normal;font-family:Menlo,'DejaVu Sans Mono',consolas,'Courier New',monospace\">┏━━━━━━━━━━━━━━━━━━━━━━━━━━━━━━━━━┳━━━━━━━━━━━━━━━━━━━━━━━━┳━━━━━━━━━━━━━━━┓\n",
       "┃<span style=\"font-weight: bold\"> Layer (type)                    </span>┃<span style=\"font-weight: bold\"> Output Shape           </span>┃<span style=\"font-weight: bold\">       Param # </span>┃\n",
       "┡━━━━━━━━━━━━━━━━━━━━━━━━━━━━━━━━━╇━━━━━━━━━━━━━━━━━━━━━━━━╇━━━━━━━━━━━━━━━┩\n",
       "│ dropout (<span style=\"color: #0087ff; text-decoration-color: #0087ff\">Dropout</span>)               │ (<span style=\"color: #00d7ff; text-decoration-color: #00d7ff\">None</span>, <span style=\"color: #00af00; text-decoration-color: #00af00\">42</span>)             │             <span style=\"color: #00af00; text-decoration-color: #00af00\">0</span> │\n",
       "├─────────────────────────────────┼────────────────────────┼───────────────┤\n",
       "│ dense (<span style=\"color: #0087ff; text-decoration-color: #0087ff\">Dense</span>)                   │ (<span style=\"color: #00d7ff; text-decoration-color: #00d7ff\">None</span>, <span style=\"color: #00af00; text-decoration-color: #00af00\">20</span>)             │           <span style=\"color: #00af00; text-decoration-color: #00af00\">860</span> │\n",
       "├─────────────────────────────────┼────────────────────────┼───────────────┤\n",
       "│ dropout_1 (<span style=\"color: #0087ff; text-decoration-color: #0087ff\">Dropout</span>)             │ (<span style=\"color: #00d7ff; text-decoration-color: #00d7ff\">None</span>, <span style=\"color: #00af00; text-decoration-color: #00af00\">20</span>)             │             <span style=\"color: #00af00; text-decoration-color: #00af00\">0</span> │\n",
       "├─────────────────────────────────┼────────────────────────┼───────────────┤\n",
       "│ dense_1 (<span style=\"color: #0087ff; text-decoration-color: #0087ff\">Dense</span>)                 │ (<span style=\"color: #00d7ff; text-decoration-color: #00d7ff\">None</span>, <span style=\"color: #00af00; text-decoration-color: #00af00\">10</span>)             │           <span style=\"color: #00af00; text-decoration-color: #00af00\">210</span> │\n",
       "├─────────────────────────────────┼────────────────────────┼───────────────┤\n",
       "│ dense_2 (<span style=\"color: #0087ff; text-decoration-color: #0087ff\">Dense</span>)                 │ (<span style=\"color: #00d7ff; text-decoration-color: #00d7ff\">None</span>, <span style=\"color: #00af00; text-decoration-color: #00af00\">5</span>)              │            <span style=\"color: #00af00; text-decoration-color: #00af00\">55</span> │\n",
       "└─────────────────────────────────┴────────────────────────┴───────────────┘\n",
       "</pre>\n"
      ],
      "text/plain": [
       "┏━━━━━━━━━━━━━━━━━━━━━━━━━━━━━━━━━┳━━━━━━━━━━━━━━━━━━━━━━━━┳━━━━━━━━━━━━━━━┓\n",
       "┃\u001b[1m \u001b[0m\u001b[1mLayer (type)                   \u001b[0m\u001b[1m \u001b[0m┃\u001b[1m \u001b[0m\u001b[1mOutput Shape          \u001b[0m\u001b[1m \u001b[0m┃\u001b[1m \u001b[0m\u001b[1m      Param #\u001b[0m\u001b[1m \u001b[0m┃\n",
       "┡━━━━━━━━━━━━━━━━━━━━━━━━━━━━━━━━━╇━━━━━━━━━━━━━━━━━━━━━━━━╇━━━━━━━━━━━━━━━┩\n",
       "│ dropout (\u001b[38;5;33mDropout\u001b[0m)               │ (\u001b[38;5;45mNone\u001b[0m, \u001b[38;5;34m42\u001b[0m)             │             \u001b[38;5;34m0\u001b[0m │\n",
       "├─────────────────────────────────┼────────────────────────┼───────────────┤\n",
       "│ dense (\u001b[38;5;33mDense\u001b[0m)                   │ (\u001b[38;5;45mNone\u001b[0m, \u001b[38;5;34m20\u001b[0m)             │           \u001b[38;5;34m860\u001b[0m │\n",
       "├─────────────────────────────────┼────────────────────────┼───────────────┤\n",
       "│ dropout_1 (\u001b[38;5;33mDropout\u001b[0m)             │ (\u001b[38;5;45mNone\u001b[0m, \u001b[38;5;34m20\u001b[0m)             │             \u001b[38;5;34m0\u001b[0m │\n",
       "├─────────────────────────────────┼────────────────────────┼───────────────┤\n",
       "│ dense_1 (\u001b[38;5;33mDense\u001b[0m)                 │ (\u001b[38;5;45mNone\u001b[0m, \u001b[38;5;34m10\u001b[0m)             │           \u001b[38;5;34m210\u001b[0m │\n",
       "├─────────────────────────────────┼────────────────────────┼───────────────┤\n",
       "│ dense_2 (\u001b[38;5;33mDense\u001b[0m)                 │ (\u001b[38;5;45mNone\u001b[0m, \u001b[38;5;34m5\u001b[0m)              │            \u001b[38;5;34m55\u001b[0m │\n",
       "└─────────────────────────────────┴────────────────────────┴───────────────┘\n"
      ]
     },
     "metadata": {},
     "output_type": "display_data"
    },
    {
     "data": {
      "text/html": [
       "<pre style=\"white-space:pre;overflow-x:auto;line-height:normal;font-family:Menlo,'DejaVu Sans Mono',consolas,'Courier New',monospace\"><span style=\"font-weight: bold\"> Total params: </span><span style=\"color: #00af00; text-decoration-color: #00af00\">1,125</span> (4.39 KB)\n",
       "</pre>\n"
      ],
      "text/plain": [
       "\u001b[1m Total params: \u001b[0m\u001b[38;5;34m1,125\u001b[0m (4.39 KB)\n"
      ]
     },
     "metadata": {},
     "output_type": "display_data"
    },
    {
     "data": {
      "text/html": [
       "<pre style=\"white-space:pre;overflow-x:auto;line-height:normal;font-family:Menlo,'DejaVu Sans Mono',consolas,'Courier New',monospace\"><span style=\"font-weight: bold\"> Trainable params: </span><span style=\"color: #00af00; text-decoration-color: #00af00\">1,125</span> (4.39 KB)\n",
       "</pre>\n"
      ],
      "text/plain": [
       "\u001b[1m Trainable params: \u001b[0m\u001b[38;5;34m1,125\u001b[0m (4.39 KB)\n"
      ]
     },
     "metadata": {},
     "output_type": "display_data"
    },
    {
     "data": {
      "text/html": [
       "<pre style=\"white-space:pre;overflow-x:auto;line-height:normal;font-family:Menlo,'DejaVu Sans Mono',consolas,'Courier New',monospace\"><span style=\"font-weight: bold\"> Non-trainable params: </span><span style=\"color: #00af00; text-decoration-color: #00af00\">0</span> (0.00 B)\n",
       "</pre>\n"
      ],
      "text/plain": [
       "\u001b[1m Non-trainable params: \u001b[0m\u001b[38;5;34m0\u001b[0m (0.00 B)\n"
      ]
     },
     "metadata": {},
     "output_type": "display_data"
    }
   ],
   "source": [
    "model.summary()  # tf.keras.utils.plot_model(model, show_shapes=True)"
   ]
  },
  {
   "cell_type": "code",
   "execution_count": 9,
   "metadata": {
    "id": "MbMjOflQ9hE1"
   },
   "outputs": [],
   "source": [
    "# Model checkpoint callback\n",
    "cp_callback = tf.keras.callbacks.ModelCheckpoint(\n",
    "    model_save_path, verbose=1, save_weights_only=False)\n",
    "# Callback for early stopping\n",
    "es_callback = tf.keras.callbacks.EarlyStopping(patience=20, verbose=1)"
   ]
  },
  {
   "cell_type": "code",
   "execution_count": 10,
   "metadata": {
    "id": "c3Dac0M_9hE2"
   },
   "outputs": [],
   "source": [
    "# Model compilation\n",
    "model.compile(\n",
    "    optimizer='adam',\n",
    "    loss='sparse_categorical_crossentropy',\n",
    "    metrics=['accuracy']\n",
    ")"
   ]
  },
  {
   "cell_type": "markdown",
   "metadata": {
    "id": "7XI0j1Iu9hE2"
   },
   "source": [
    "# Model training"
   ]
  },
  {
   "cell_type": "code",
   "execution_count": 11,
   "metadata": {
    "colab": {
     "base_uri": "https://localhost:8080/"
    },
    "id": "WirBl-JE9hE3",
    "outputId": "71b30ca2-8294-4d9d-8aa2-800d90d399de",
    "scrolled": true
   },
   "outputs": [
    {
     "name": "stdout",
     "output_type": "stream",
     "text": [
      "Epoch 1/1000\n",
      "\u001b[1m 1/36\u001b[0m \u001b[37m━━━━━━━━━━━━━━━━━━━━\u001b[0m \u001b[1m10s\u001b[0m 286ms/step - accuracy: 0.1953 - loss: 1.6964\n",
      "Epoch 1: saving model to Model/keypoint_classifier/keypoint_classifier.keras\n",
      "\u001b[1m36/36\u001b[0m \u001b[32m━━━━━━━━━━━━━━━━━━━━\u001b[0m\u001b[37m\u001b[0m \u001b[1m0s\u001b[0m 2ms/step - accuracy: 0.2108 - loss: 1.6493 - val_accuracy: 0.5003 - val_loss: 1.5047\n",
      "Epoch 2/1000\n",
      "\u001b[1m 1/36\u001b[0m \u001b[37m━━━━━━━━━━━━━━━━━━━━\u001b[0m \u001b[1m0s\u001b[0m 6ms/step - accuracy: 0.3828 - loss: 1.5238\n",
      "Epoch 2: saving model to Model/keypoint_classifier/keypoint_classifier.keras\n",
      "\u001b[1m36/36\u001b[0m \u001b[32m━━━━━━━━━━━━━━━━━━━━\u001b[0m\u001b[37m\u001b[0m \u001b[1m0s\u001b[0m 767us/step - accuracy: 0.3591 - loss: 1.4946 - val_accuracy: 0.4498 - val_loss: 1.3236\n",
      "Epoch 3/1000\n",
      "\u001b[1m 1/36\u001b[0m \u001b[37m━━━━━━━━━━━━━━━━━━━━\u001b[0m \u001b[1m0s\u001b[0m 6ms/step - accuracy: 0.4219 - loss: 1.4154\n",
      "Epoch 3: saving model to Model/keypoint_classifier/keypoint_classifier.keras\n",
      "\u001b[1m36/36\u001b[0m \u001b[32m━━━━━━━━━━━━━━━━━━━━\u001b[0m\u001b[37m\u001b[0m \u001b[1m0s\u001b[0m 722us/step - accuracy: 0.4725 - loss: 1.3346 - val_accuracy: 0.6352 - val_loss: 1.1250\n",
      "Epoch 4/1000\n",
      "\u001b[1m 1/36\u001b[0m \u001b[37m━━━━━━━━━━━━━━━━━━━━\u001b[0m \u001b[1m0s\u001b[0m 6ms/step - accuracy: 0.6250 - loss: 1.1865\n",
      "Epoch 4: saving model to Model/keypoint_classifier/keypoint_classifier.keras\n",
      "\u001b[1m36/36\u001b[0m \u001b[32m━━━━━━━━━━━━━━━━━━━━\u001b[0m\u001b[37m\u001b[0m \u001b[1m0s\u001b[0m 692us/step - accuracy: 0.5941 - loss: 1.1595 - val_accuracy: 0.7103 - val_loss: 0.9095\n",
      "Epoch 5/1000\n",
      "\u001b[1m 1/36\u001b[0m \u001b[37m━━━━━━━━━━━━━━━━━━━━\u001b[0m \u001b[1m0s\u001b[0m 6ms/step - accuracy: 0.5781 - loss: 1.0510\n",
      "Epoch 5: saving model to Model/keypoint_classifier/keypoint_classifier.keras\n",
      "\u001b[1m36/36\u001b[0m \u001b[32m━━━━━━━━━━━━━━━━━━━━\u001b[0m\u001b[37m\u001b[0m \u001b[1m0s\u001b[0m 686us/step - accuracy: 0.6517 - loss: 0.9943 - val_accuracy: 0.7568 - val_loss: 0.7454\n",
      "Epoch 6/1000\n",
      "\u001b[1m 1/36\u001b[0m \u001b[37m━━━━━━━━━━━━━━━━━━━━\u001b[0m \u001b[1m0s\u001b[0m 6ms/step - accuracy: 0.6875 - loss: 0.9279\n",
      "Epoch 6: saving model to Model/keypoint_classifier/keypoint_classifier.keras\n",
      "\u001b[1m36/36\u001b[0m \u001b[32m━━━━━━━━━━━━━━━━━━━━\u001b[0m\u001b[37m\u001b[0m \u001b[1m0s\u001b[0m 696us/step - accuracy: 0.6868 - loss: 0.8904 - val_accuracy: 0.8027 - val_loss: 0.6608\n",
      "Epoch 7/1000\n",
      "\u001b[1m 1/36\u001b[0m \u001b[37m━━━━━━━━━━━━━━━━━━━━\u001b[0m \u001b[1m0s\u001b[0m 6ms/step - accuracy: 0.6797 - loss: 0.8042\n",
      "Epoch 7: saving model to Model/keypoint_classifier/keypoint_classifier.keras\n",
      "\u001b[1m36/36\u001b[0m \u001b[32m━━━━━━━━━━━━━━━━━━━━\u001b[0m\u001b[37m\u001b[0m \u001b[1m0s\u001b[0m 700us/step - accuracy: 0.7107 - loss: 0.7876 - val_accuracy: 0.8159 - val_loss: 0.5986\n",
      "Epoch 8/1000\n",
      "\u001b[1m 1/36\u001b[0m \u001b[37m━━━━━━━━━━━━━━━━━━━━\u001b[0m \u001b[1m0s\u001b[0m 6ms/step - accuracy: 0.7422 - loss: 0.7729\n",
      "Epoch 8: saving model to Model/keypoint_classifier/keypoint_classifier.keras\n",
      "\u001b[1m36/36\u001b[0m \u001b[32m━━━━━━━━━━━━━━━━━━━━\u001b[0m\u001b[37m\u001b[0m \u001b[1m0s\u001b[0m 696us/step - accuracy: 0.7321 - loss: 0.7380 - val_accuracy: 0.8173 - val_loss: 0.5490\n",
      "Epoch 9/1000\n",
      "\u001b[1m 1/36\u001b[0m \u001b[37m━━━━━━━━━━━━━━━━━━━━\u001b[0m \u001b[1m0s\u001b[0m 6ms/step - accuracy: 0.7031 - loss: 0.6794\n",
      "Epoch 9: saving model to Model/keypoint_classifier/keypoint_classifier.keras\n",
      "\u001b[1m36/36\u001b[0m \u001b[32m━━━━━━━━━━━━━━━━━━━━\u001b[0m\u001b[37m\u001b[0m \u001b[1m0s\u001b[0m 706us/step - accuracy: 0.7249 - loss: 0.7112 - val_accuracy: 0.8372 - val_loss: 0.5144\n",
      "Epoch 10/1000\n",
      "\u001b[1m 1/36\u001b[0m \u001b[37m━━━━━━━━━━━━━━━━━━━━\u001b[0m \u001b[1m0s\u001b[0m 6ms/step - accuracy: 0.7656 - loss: 0.6919\n",
      "Epoch 10: saving model to Model/keypoint_classifier/keypoint_classifier.keras\n",
      "\u001b[1m36/36\u001b[0m \u001b[32m━━━━━━━━━━━━━━━━━━━━\u001b[0m\u001b[37m\u001b[0m \u001b[1m0s\u001b[0m 708us/step - accuracy: 0.7522 - loss: 0.6818 - val_accuracy: 0.8392 - val_loss: 0.4869\n",
      "Epoch 11/1000\n",
      "\u001b[1m 1/36\u001b[0m \u001b[37m━━━━━━━━━━━━━━━━━━━━\u001b[0m \u001b[1m0s\u001b[0m 6ms/step - accuracy: 0.8125 - loss: 0.5531\n",
      "Epoch 11: saving model to Model/keypoint_classifier/keypoint_classifier.keras\n",
      "\u001b[1m36/36\u001b[0m \u001b[32m━━━━━━━━━━━━━━━━━━━━\u001b[0m\u001b[37m\u001b[0m \u001b[1m0s\u001b[0m 711us/step - accuracy: 0.7610 - loss: 0.6635 - val_accuracy: 0.8518 - val_loss: 0.4675\n",
      "Epoch 12/1000\n",
      "\u001b[1m 1/36\u001b[0m \u001b[37m━━━━━━━━━━━━━━━━━━━━\u001b[0m \u001b[1m0s\u001b[0m 6ms/step - accuracy: 0.7500 - loss: 0.6600\n",
      "Epoch 12: saving model to Model/keypoint_classifier/keypoint_classifier.keras\n",
      "\u001b[1m36/36\u001b[0m \u001b[32m━━━━━━━━━━━━━━━━━━━━\u001b[0m\u001b[37m\u001b[0m \u001b[1m0s\u001b[0m 706us/step - accuracy: 0.7622 - loss: 0.6562 - val_accuracy: 0.8498 - val_loss: 0.4488\n",
      "Epoch 13/1000\n",
      "\u001b[1m 1/36\u001b[0m \u001b[37m━━━━━━━━━━━━━━━━━━━━\u001b[0m \u001b[1m0s\u001b[0m 6ms/step - accuracy: 0.7656 - loss: 0.6535\n",
      "Epoch 13: saving model to Model/keypoint_classifier/keypoint_classifier.keras\n",
      "\u001b[1m36/36\u001b[0m \u001b[32m━━━━━━━━━━━━━━━━━━━━\u001b[0m\u001b[37m\u001b[0m \u001b[1m0s\u001b[0m 688us/step - accuracy: 0.7697 - loss: 0.6270 - val_accuracy: 0.8698 - val_loss: 0.4332\n",
      "Epoch 14/1000\n",
      "\u001b[1m 1/36\u001b[0m \u001b[37m━━━━━━━━━━━━━━━━━━━━\u001b[0m \u001b[1m0s\u001b[0m 6ms/step - accuracy: 0.8125 - loss: 0.5488\n",
      "Epoch 14: saving model to Model/keypoint_classifier/keypoint_classifier.keras\n",
      "\u001b[1m36/36\u001b[0m \u001b[32m━━━━━━━━━━━━━━━━━━━━\u001b[0m\u001b[37m\u001b[0m \u001b[1m0s\u001b[0m 689us/step - accuracy: 0.7817 - loss: 0.5957 - val_accuracy: 0.8963 - val_loss: 0.4153\n",
      "Epoch 15/1000\n",
      "\u001b[1m 1/36\u001b[0m \u001b[37m━━━━━━━━━━━━━━━━━━━━\u001b[0m \u001b[1m0s\u001b[0m 6ms/step - accuracy: 0.8125 - loss: 0.5805\n",
      "Epoch 15: saving model to Model/keypoint_classifier/keypoint_classifier.keras\n",
      "\u001b[1m36/36\u001b[0m \u001b[32m━━━━━━━━━━━━━━━━━━━━\u001b[0m\u001b[37m\u001b[0m \u001b[1m0s\u001b[0m 682us/step - accuracy: 0.7912 - loss: 0.5902 - val_accuracy: 0.9050 - val_loss: 0.4007\n",
      "Epoch 16/1000\n",
      "\u001b[1m 1/36\u001b[0m \u001b[37m━━━━━━━━━━━━━━━━━━━━\u001b[0m \u001b[1m0s\u001b[0m 6ms/step - accuracy: 0.7969 - loss: 0.5790\n",
      "Epoch 16: saving model to Model/keypoint_classifier/keypoint_classifier.keras\n",
      "\u001b[1m36/36\u001b[0m \u001b[32m━━━━━━━━━━━━━━━━━━━━\u001b[0m\u001b[37m\u001b[0m \u001b[1m0s\u001b[0m 682us/step - accuracy: 0.7963 - loss: 0.5828 - val_accuracy: 0.9309 - val_loss: 0.3943\n",
      "Epoch 17/1000\n",
      "\u001b[1m 1/36\u001b[0m \u001b[37m━━━━━━━━━━━━━━━━━━━━\u001b[0m \u001b[1m0s\u001b[0m 6ms/step - accuracy: 0.8047 - loss: 0.5763\n",
      "Epoch 17: saving model to Model/keypoint_classifier/keypoint_classifier.keras\n",
      "\u001b[1m36/36\u001b[0m \u001b[32m━━━━━━━━━━━━━━━━━━━━\u001b[0m\u001b[37m\u001b[0m \u001b[1m0s\u001b[0m 676us/step - accuracy: 0.7845 - loss: 0.5735 - val_accuracy: 0.9296 - val_loss: 0.3800\n",
      "Epoch 18/1000\n",
      "\u001b[1m 1/36\u001b[0m \u001b[37m━━━━━━━━━━━━━━━━━━━━\u001b[0m \u001b[1m0s\u001b[0m 6ms/step - accuracy: 0.7734 - loss: 0.5723\n",
      "Epoch 18: saving model to Model/keypoint_classifier/keypoint_classifier.keras\n",
      "\u001b[1m36/36\u001b[0m \u001b[32m━━━━━━━━━━━━━━━━━━━━\u001b[0m\u001b[37m\u001b[0m \u001b[1m0s\u001b[0m 679us/step - accuracy: 0.7919 - loss: 0.5606 - val_accuracy: 0.9369 - val_loss: 0.3715\n",
      "Epoch 19/1000\n",
      "\u001b[1m 1/36\u001b[0m \u001b[37m━━━━━━━━━━━━━━━━━━━━\u001b[0m \u001b[1m0s\u001b[0m 6ms/step - accuracy: 0.7734 - loss: 0.5799\n",
      "Epoch 19: saving model to Model/keypoint_classifier/keypoint_classifier.keras\n",
      "\u001b[1m36/36\u001b[0m \u001b[32m━━━━━━━━━━━━━━━━━━━━\u001b[0m\u001b[37m\u001b[0m \u001b[1m0s\u001b[0m 682us/step - accuracy: 0.8018 - loss: 0.5550 - val_accuracy: 0.9435 - val_loss: 0.3639\n",
      "Epoch 20/1000\n",
      "\u001b[1m 1/36\u001b[0m \u001b[37m━━━━━━━━━━━━━━━━━━━━\u001b[0m \u001b[1m0s\u001b[0m 6ms/step - accuracy: 0.8125 - loss: 0.5269\n",
      "Epoch 20: saving model to Model/keypoint_classifier/keypoint_classifier.keras\n",
      "\u001b[1m36/36\u001b[0m \u001b[32m━━━━━━━━━━━━━━━━━━━━\u001b[0m\u001b[37m\u001b[0m \u001b[1m0s\u001b[0m 769us/step - accuracy: 0.8071 - loss: 0.5432 - val_accuracy: 0.9422 - val_loss: 0.3558\n",
      "Epoch 21/1000\n",
      "\u001b[1m 1/36\u001b[0m \u001b[37m━━━━━━━━━━━━━━━━━━━━\u001b[0m \u001b[1m0s\u001b[0m 7ms/step - accuracy: 0.7734 - loss: 0.6808\n",
      "Epoch 21: saving model to Model/keypoint_classifier/keypoint_classifier.keras\n",
      "\u001b[1m36/36\u001b[0m \u001b[32m━━━━━━━━━━━━━━━━━━━━\u001b[0m\u001b[37m\u001b[0m \u001b[1m0s\u001b[0m 794us/step - accuracy: 0.7922 - loss: 0.5727 - val_accuracy: 0.9409 - val_loss: 0.3541\n",
      "Epoch 22/1000\n",
      "\u001b[1m 1/36\u001b[0m \u001b[37m━━━━━━━━━━━━━━━━━━━━\u001b[0m \u001b[1m0s\u001b[0m 7ms/step - accuracy: 0.7578 - loss: 0.5960\n",
      "Epoch 22: saving model to Model/keypoint_classifier/keypoint_classifier.keras\n",
      "\u001b[1m36/36\u001b[0m \u001b[32m━━━━━━━━━━━━━━━━━━━━\u001b[0m\u001b[37m\u001b[0m \u001b[1m0s\u001b[0m 711us/step - accuracy: 0.8016 - loss: 0.5452 - val_accuracy: 0.9462 - val_loss: 0.3498\n",
      "Epoch 23/1000\n",
      "\u001b[1m 1/36\u001b[0m \u001b[37m━━━━━━━━━━━━━━━━━━━━\u001b[0m \u001b[1m0s\u001b[0m 6ms/step - accuracy: 0.8203 - loss: 0.5140\n",
      "Epoch 23: saving model to Model/keypoint_classifier/keypoint_classifier.keras\n",
      "\u001b[1m36/36\u001b[0m \u001b[32m━━━━━━━━━━━━━━━━━━━━\u001b[0m\u001b[37m\u001b[0m \u001b[1m0s\u001b[0m 674us/step - accuracy: 0.8181 - loss: 0.5352 - val_accuracy: 0.9362 - val_loss: 0.3431\n",
      "Epoch 24/1000\n",
      "\u001b[1m 1/36\u001b[0m \u001b[37m━━━━━━━━━━━━━━━━━━━━\u001b[0m \u001b[1m0s\u001b[0m 6ms/step - accuracy: 0.8359 - loss: 0.4402\n",
      "Epoch 24: saving model to Model/keypoint_classifier/keypoint_classifier.keras\n",
      "\u001b[1m36/36\u001b[0m \u001b[32m━━━━━━━━━━━━━━━━━━━━\u001b[0m\u001b[37m\u001b[0m \u001b[1m0s\u001b[0m 687us/step - accuracy: 0.8041 - loss: 0.5293 - val_accuracy: 0.9475 - val_loss: 0.3389\n",
      "Epoch 25/1000\n",
      "\u001b[1m 1/36\u001b[0m \u001b[37m━━━━━━━━━━━━━━━━━━━━\u001b[0m \u001b[1m0s\u001b[0m 6ms/step - accuracy: 0.8203 - loss: 0.5793\n",
      "Epoch 25: saving model to Model/keypoint_classifier/keypoint_classifier.keras\n",
      "\u001b[1m36/36\u001b[0m \u001b[32m━━━━━━━━━━━━━━━━━━━━\u001b[0m\u001b[37m\u001b[0m \u001b[1m0s\u001b[0m 678us/step - accuracy: 0.8111 - loss: 0.5265 - val_accuracy: 0.9468 - val_loss: 0.3287\n",
      "Epoch 26/1000\n",
      "\u001b[1m 1/36\u001b[0m \u001b[37m━━━━━━━━━━━━━━━━━━━━\u001b[0m \u001b[1m0s\u001b[0m 6ms/step - accuracy: 0.8516 - loss: 0.3882\n",
      "Epoch 26: saving model to Model/keypoint_classifier/keypoint_classifier.keras\n",
      "\u001b[1m36/36\u001b[0m \u001b[32m━━━━━━━━━━━━━━━━━━━━\u001b[0m\u001b[37m\u001b[0m \u001b[1m0s\u001b[0m 681us/step - accuracy: 0.8092 - loss: 0.5234 - val_accuracy: 0.9502 - val_loss: 0.3253\n",
      "Epoch 27/1000\n",
      "\u001b[1m 1/36\u001b[0m \u001b[37m━━━━━━━━━━━━━━━━━━━━\u001b[0m \u001b[1m0s\u001b[0m 6ms/step - accuracy: 0.8359 - loss: 0.5216\n",
      "Epoch 27: saving model to Model/keypoint_classifier/keypoint_classifier.keras\n",
      "\u001b[1m36/36\u001b[0m \u001b[32m━━━━━━━━━━━━━━━━━━━━\u001b[0m\u001b[37m\u001b[0m \u001b[1m0s\u001b[0m 686us/step - accuracy: 0.8052 - loss: 0.5365 - val_accuracy: 0.9515 - val_loss: 0.3186\n",
      "Epoch 28/1000\n",
      "\u001b[1m 1/36\u001b[0m \u001b[37m━━━━━━━━━━━━━━━━━━━━\u001b[0m \u001b[1m0s\u001b[0m 6ms/step - accuracy: 0.8438 - loss: 0.4712\n",
      "Epoch 28: saving model to Model/keypoint_classifier/keypoint_classifier.keras\n",
      "\u001b[1m36/36\u001b[0m \u001b[32m━━━━━━━━━━━━━━━━━━━━\u001b[0m\u001b[37m\u001b[0m \u001b[1m0s\u001b[0m 688us/step - accuracy: 0.8226 - loss: 0.4941 - val_accuracy: 0.9502 - val_loss: 0.3147\n",
      "Epoch 29/1000\n",
      "\u001b[1m 1/36\u001b[0m \u001b[37m━━━━━━━━━━━━━━━━━━━━\u001b[0m \u001b[1m0s\u001b[0m 6ms/step - accuracy: 0.8516 - loss: 0.4378\n",
      "Epoch 29: saving model to Model/keypoint_classifier/keypoint_classifier.keras\n",
      "\u001b[1m36/36\u001b[0m \u001b[32m━━━━━━━━━━━━━━━━━━━━\u001b[0m\u001b[37m\u001b[0m \u001b[1m0s\u001b[0m 687us/step - accuracy: 0.8253 - loss: 0.4906 - val_accuracy: 0.9488 - val_loss: 0.3093\n",
      "Epoch 30/1000\n",
      "\u001b[1m 1/36\u001b[0m \u001b[37m━━━━━━━━━━━━━━━━━━━━\u001b[0m \u001b[1m0s\u001b[0m 6ms/step - accuracy: 0.8828 - loss: 0.3753\n",
      "Epoch 30: saving model to Model/keypoint_classifier/keypoint_classifier.keras\n",
      "\u001b[1m36/36\u001b[0m \u001b[32m━━━━━━━━━━━━━━━━━━━━\u001b[0m\u001b[37m\u001b[0m \u001b[1m0s\u001b[0m 671us/step - accuracy: 0.8216 - loss: 0.5084 - val_accuracy: 0.9515 - val_loss: 0.3070\n",
      "Epoch 31/1000\n",
      "\u001b[1m 1/36\u001b[0m \u001b[37m━━━━━━━━━━━━━━━━━━━━\u001b[0m \u001b[1m0s\u001b[0m 6ms/step - accuracy: 0.8125 - loss: 0.4902\n",
      "Epoch 31: saving model to Model/keypoint_classifier/keypoint_classifier.keras\n",
      "\u001b[1m36/36\u001b[0m \u001b[32m━━━━━━━━━━━━━━━━━━━━\u001b[0m\u001b[37m\u001b[0m \u001b[1m0s\u001b[0m 687us/step - accuracy: 0.8133 - loss: 0.4963 - val_accuracy: 0.9508 - val_loss: 0.3066\n",
      "Epoch 32/1000\n",
      "\u001b[1m 1/36\u001b[0m \u001b[37m━━━━━━━━━━━━━━━━━━━━\u001b[0m \u001b[1m0s\u001b[0m 6ms/step - accuracy: 0.8438 - loss: 0.5100\n",
      "Epoch 32: saving model to Model/keypoint_classifier/keypoint_classifier.keras\n",
      "\u001b[1m36/36\u001b[0m \u001b[32m━━━━━━━━━━━━━━━━━━━━\u001b[0m\u001b[37m\u001b[0m \u001b[1m0s\u001b[0m 695us/step - accuracy: 0.8251 - loss: 0.4950 - val_accuracy: 0.9515 - val_loss: 0.3006\n",
      "Epoch 33/1000\n",
      "\u001b[1m 1/36\u001b[0m \u001b[37m━━━━━━━━━━━━━━━━━━━━\u001b[0m \u001b[1m0s\u001b[0m 6ms/step - accuracy: 0.7422 - loss: 0.6022\n",
      "Epoch 33: saving model to Model/keypoint_classifier/keypoint_classifier.keras\n",
      "\u001b[1m36/36\u001b[0m \u001b[32m━━━━━━━━━━━━━━━━━━━━\u001b[0m\u001b[37m\u001b[0m \u001b[1m0s\u001b[0m 691us/step - accuracy: 0.8169 - loss: 0.4983 - val_accuracy: 0.9508 - val_loss: 0.2989\n",
      "Epoch 34/1000\n",
      "\u001b[1m 1/36\u001b[0m \u001b[37m━━━━━━━━━━━━━━━━━━━━\u001b[0m \u001b[1m0s\u001b[0m 6ms/step - accuracy: 0.8203 - loss: 0.4994\n",
      "Epoch 34: saving model to Model/keypoint_classifier/keypoint_classifier.keras\n",
      "\u001b[1m36/36\u001b[0m \u001b[32m━━━━━━━━━━━━━━━━━━━━\u001b[0m\u001b[37m\u001b[0m \u001b[1m0s\u001b[0m 691us/step - accuracy: 0.8344 - loss: 0.4703 - val_accuracy: 0.9488 - val_loss: 0.2934\n",
      "Epoch 35/1000\n",
      "\u001b[1m 1/36\u001b[0m \u001b[37m━━━━━━━━━━━━━━━━━━━━\u001b[0m \u001b[1m0s\u001b[0m 6ms/step - accuracy: 0.8281 - loss: 0.5129\n",
      "Epoch 35: saving model to Model/keypoint_classifier/keypoint_classifier.keras\n",
      "\u001b[1m36/36\u001b[0m \u001b[32m━━━━━━━━━━━━━━━━━━━━\u001b[0m\u001b[37m\u001b[0m \u001b[1m0s\u001b[0m 690us/step - accuracy: 0.8273 - loss: 0.4744 - val_accuracy: 0.9528 - val_loss: 0.2885\n",
      "Epoch 36/1000\n",
      "\u001b[1m 1/36\u001b[0m \u001b[37m━━━━━━━━━━━━━━━━━━━━\u001b[0m \u001b[1m0s\u001b[0m 6ms/step - accuracy: 0.7734 - loss: 0.5718\n",
      "Epoch 36: saving model to Model/keypoint_classifier/keypoint_classifier.keras\n",
      "\u001b[1m36/36\u001b[0m \u001b[32m━━━━━━━━━━━━━━━━━━━━\u001b[0m\u001b[37m\u001b[0m \u001b[1m0s\u001b[0m 686us/step - accuracy: 0.8189 - loss: 0.4891 - val_accuracy: 0.9515 - val_loss: 0.2868\n",
      "Epoch 37/1000\n",
      "\u001b[1m 1/36\u001b[0m \u001b[37m━━━━━━━━━━━━━━━━━━━━\u001b[0m \u001b[1m0s\u001b[0m 6ms/step - accuracy: 0.7734 - loss: 0.5734\n",
      "Epoch 37: saving model to Model/keypoint_classifier/keypoint_classifier.keras\n",
      "\u001b[1m36/36\u001b[0m \u001b[32m━━━━━━━━━━━━━━━━━━━━\u001b[0m\u001b[37m\u001b[0m \u001b[1m0s\u001b[0m 689us/step - accuracy: 0.8200 - loss: 0.4921 - val_accuracy: 0.9515 - val_loss: 0.2863\n",
      "Epoch 38/1000\n",
      "\u001b[1m 1/36\u001b[0m \u001b[37m━━━━━━━━━━━━━━━━━━━━\u001b[0m \u001b[1m0s\u001b[0m 6ms/step - accuracy: 0.8047 - loss: 0.5519\n",
      "Epoch 38: saving model to Model/keypoint_classifier/keypoint_classifier.keras\n",
      "\u001b[1m36/36\u001b[0m \u001b[32m━━━━━━━━━━━━━━━━━━━━\u001b[0m\u001b[37m\u001b[0m \u001b[1m0s\u001b[0m 689us/step - accuracy: 0.8252 - loss: 0.4881 - val_accuracy: 0.9515 - val_loss: 0.2806\n",
      "Epoch 39/1000\n",
      "\u001b[1m 1/36\u001b[0m \u001b[37m━━━━━━━━━━━━━━━━━━━━\u001b[0m \u001b[1m0s\u001b[0m 6ms/step - accuracy: 0.7891 - loss: 0.5914\n",
      "Epoch 39: saving model to Model/keypoint_classifier/keypoint_classifier.keras\n",
      "\u001b[1m36/36\u001b[0m \u001b[32m━━━━━━━━━━━━━━━━━━━━\u001b[0m\u001b[37m\u001b[0m \u001b[1m0s\u001b[0m 695us/step - accuracy: 0.8189 - loss: 0.4973 - val_accuracy: 0.9528 - val_loss: 0.2819\n",
      "Epoch 40/1000\n",
      "\u001b[1m 1/36\u001b[0m \u001b[37m━━━━━━━━━━━━━━━━━━━━\u001b[0m \u001b[1m0s\u001b[0m 6ms/step - accuracy: 0.7812 - loss: 0.5212\n",
      "Epoch 40: saving model to Model/keypoint_classifier/keypoint_classifier.keras\n",
      "\u001b[1m36/36\u001b[0m \u001b[32m━━━━━━━━━━━━━━━━━━━━\u001b[0m\u001b[37m\u001b[0m \u001b[1m0s\u001b[0m 700us/step - accuracy: 0.8257 - loss: 0.4823 - val_accuracy: 0.9535 - val_loss: 0.2796\n",
      "Epoch 41/1000\n",
      "\u001b[1m 1/36\u001b[0m \u001b[37m━━━━━━━━━━━━━━━━━━━━\u001b[0m \u001b[1m0s\u001b[0m 6ms/step - accuracy: 0.8828 - loss: 0.3626\n",
      "Epoch 41: saving model to Model/keypoint_classifier/keypoint_classifier.keras\n",
      "\u001b[1m36/36\u001b[0m \u001b[32m━━━━━━━━━━━━━━━━━━━━\u001b[0m\u001b[37m\u001b[0m \u001b[1m0s\u001b[0m 700us/step - accuracy: 0.8309 - loss: 0.4704 - val_accuracy: 0.9535 - val_loss: 0.2770\n",
      "Epoch 42/1000\n",
      "\u001b[1m 1/36\u001b[0m \u001b[37m━━━━━━━━━━━━━━━━━━━━\u001b[0m \u001b[1m0s\u001b[0m 6ms/step - accuracy: 0.7812 - loss: 0.5250\n",
      "Epoch 42: saving model to Model/keypoint_classifier/keypoint_classifier.keras\n",
      "\u001b[1m36/36\u001b[0m \u001b[32m━━━━━━━━━━━━━━━━━━━━\u001b[0m\u001b[37m\u001b[0m \u001b[1m0s\u001b[0m 701us/step - accuracy: 0.8276 - loss: 0.4851 - val_accuracy: 0.9508 - val_loss: 0.2749\n",
      "Epoch 43/1000\n",
      "\u001b[1m 1/36\u001b[0m \u001b[37m━━━━━━━━━━━━━━━━━━━━\u001b[0m \u001b[1m0s\u001b[0m 6ms/step - accuracy: 0.7969 - loss: 0.5117\n",
      "Epoch 43: saving model to Model/keypoint_classifier/keypoint_classifier.keras\n",
      "\u001b[1m36/36\u001b[0m \u001b[32m━━━━━━━━━━━━━━━━━━━━\u001b[0m\u001b[37m\u001b[0m \u001b[1m0s\u001b[0m 700us/step - accuracy: 0.8284 - loss: 0.4722 - val_accuracy: 0.9528 - val_loss: 0.2715\n",
      "Epoch 44/1000\n",
      "\u001b[1m 1/36\u001b[0m \u001b[37m━━━━━━━━━━━━━━━━━━━━\u001b[0m \u001b[1m0s\u001b[0m 6ms/step - accuracy: 0.8125 - loss: 0.5867\n",
      "Epoch 44: saving model to Model/keypoint_classifier/keypoint_classifier.keras\n",
      "\u001b[1m36/36\u001b[0m \u001b[32m━━━━━━━━━━━━━━━━━━━━\u001b[0m\u001b[37m\u001b[0m \u001b[1m0s\u001b[0m 700us/step - accuracy: 0.8306 - loss: 0.4886 - val_accuracy: 0.9542 - val_loss: 0.2683\n",
      "Epoch 45/1000\n",
      "\u001b[1m 1/36\u001b[0m \u001b[37m━━━━━━━━━━━━━━━━━━━━\u001b[0m \u001b[1m0s\u001b[0m 6ms/step - accuracy: 0.8125 - loss: 0.5786\n",
      "Epoch 45: saving model to Model/keypoint_classifier/keypoint_classifier.keras\n",
      "\u001b[1m36/36\u001b[0m \u001b[32m━━━━━━━━━━━━━━━━━━━━\u001b[0m\u001b[37m\u001b[0m \u001b[1m0s\u001b[0m 698us/step - accuracy: 0.8297 - loss: 0.4806 - val_accuracy: 0.9528 - val_loss: 0.2660\n",
      "Epoch 46/1000\n",
      "\u001b[1m 1/36\u001b[0m \u001b[37m━━━━━━━━━━━━━━━━━━━━\u001b[0m \u001b[1m0s\u001b[0m 6ms/step - accuracy: 0.8359 - loss: 0.4037\n",
      "Epoch 46: saving model to Model/keypoint_classifier/keypoint_classifier.keras\n",
      "\u001b[1m36/36\u001b[0m \u001b[32m━━━━━━━━━━━━━━━━━━━━\u001b[0m\u001b[37m\u001b[0m \u001b[1m0s\u001b[0m 701us/step - accuracy: 0.8366 - loss: 0.4564 - val_accuracy: 0.9528 - val_loss: 0.2634\n",
      "Epoch 47/1000\n",
      "\u001b[1m 1/36\u001b[0m \u001b[37m━━━━━━━━━━━━━━━━━━━━\u001b[0m \u001b[1m0s\u001b[0m 6ms/step - accuracy: 0.8516 - loss: 0.4134\n",
      "Epoch 47: saving model to Model/keypoint_classifier/keypoint_classifier.keras\n",
      "\u001b[1m36/36\u001b[0m \u001b[32m━━━━━━━━━━━━━━━━━━━━\u001b[0m\u001b[37m\u001b[0m \u001b[1m0s\u001b[0m 695us/step - accuracy: 0.8320 - loss: 0.4675 - val_accuracy: 0.9528 - val_loss: 0.2597\n",
      "Epoch 48/1000\n",
      "\u001b[1m 1/36\u001b[0m \u001b[37m━━━━━━━━━━━━━━━━━━━━\u001b[0m \u001b[1m0s\u001b[0m 6ms/step - accuracy: 0.7734 - loss: 0.5226\n",
      "Epoch 48: saving model to Model/keypoint_classifier/keypoint_classifier.keras\n",
      "\u001b[1m36/36\u001b[0m \u001b[32m━━━━━━━━━━━━━━━━━━━━\u001b[0m\u001b[37m\u001b[0m \u001b[1m0s\u001b[0m 705us/step - accuracy: 0.8262 - loss: 0.4735 - val_accuracy: 0.9535 - val_loss: 0.2659\n",
      "Epoch 49/1000\n",
      "\u001b[1m 1/36\u001b[0m \u001b[37m━━━━━━━━━━━━━━━━━━━━\u001b[0m \u001b[1m0s\u001b[0m 6ms/step - accuracy: 0.8438 - loss: 0.5169\n",
      "Epoch 49: saving model to Model/keypoint_classifier/keypoint_classifier.keras\n",
      "\u001b[1m36/36\u001b[0m \u001b[32m━━━━━━━━━━━━━━━━━━━━\u001b[0m\u001b[37m\u001b[0m \u001b[1m0s\u001b[0m 704us/step - accuracy: 0.8396 - loss: 0.4795 - val_accuracy: 0.9528 - val_loss: 0.2618\n",
      "Epoch 50/1000\n",
      "\u001b[1m 1/36\u001b[0m \u001b[37m━━━━━━━━━━━━━━━━━━━━\u001b[0m \u001b[1m0s\u001b[0m 6ms/step - accuracy: 0.7734 - loss: 0.5430\n",
      "Epoch 50: saving model to Model/keypoint_classifier/keypoint_classifier.keras\n",
      "\u001b[1m36/36\u001b[0m \u001b[32m━━━━━━━━━━━━━━━━━━━━\u001b[0m\u001b[37m\u001b[0m \u001b[1m0s\u001b[0m 796us/step - accuracy: 0.8247 - loss: 0.4886 - val_accuracy: 0.9508 - val_loss: 0.2662\n",
      "Epoch 51/1000\n",
      "\u001b[1m 1/36\u001b[0m \u001b[37m━━━━━━━━━━━━━━━━━━━━\u001b[0m \u001b[1m0s\u001b[0m 6ms/step - accuracy: 0.8438 - loss: 0.4302\n",
      "Epoch 51: saving model to Model/keypoint_classifier/keypoint_classifier.keras\n",
      "\u001b[1m36/36\u001b[0m \u001b[32m━━━━━━━━━━━━━━━━━━━━\u001b[0m\u001b[37m\u001b[0m \u001b[1m0s\u001b[0m 711us/step - accuracy: 0.8487 - loss: 0.4394 - val_accuracy: 0.9522 - val_loss: 0.2590\n",
      "Epoch 52/1000\n",
      "\u001b[1m 1/36\u001b[0m \u001b[37m━━━━━━━━━━━━━━━━━━━━\u001b[0m \u001b[1m0s\u001b[0m 6ms/step - accuracy: 0.8828 - loss: 0.4035\n",
      "Epoch 52: saving model to Model/keypoint_classifier/keypoint_classifier.keras\n",
      "\u001b[1m36/36\u001b[0m \u001b[32m━━━━━━━━━━━━━━━━━━━━\u001b[0m\u001b[37m\u001b[0m \u001b[1m0s\u001b[0m 726us/step - accuracy: 0.8479 - loss: 0.4468 - val_accuracy: 0.9555 - val_loss: 0.2521\n",
      "Epoch 53/1000\n",
      "\u001b[1m 1/36\u001b[0m \u001b[37m━━━━━━━━━━━━━━━━━━━━\u001b[0m \u001b[1m0s\u001b[0m 6ms/step - accuracy: 0.8359 - loss: 0.4355\n",
      "Epoch 53: saving model to Model/keypoint_classifier/keypoint_classifier.keras\n",
      "\u001b[1m36/36\u001b[0m \u001b[32m━━━━━━━━━━━━━━━━━━━━\u001b[0m\u001b[37m\u001b[0m \u001b[1m0s\u001b[0m 712us/step - accuracy: 0.8414 - loss: 0.4484 - val_accuracy: 0.9542 - val_loss: 0.2473\n",
      "Epoch 54/1000\n",
      "\u001b[1m 1/36\u001b[0m \u001b[37m━━━━━━━━━━━━━━━━━━━━\u001b[0m \u001b[1m0s\u001b[0m 6ms/step - accuracy: 0.8047 - loss: 0.5178\n",
      "Epoch 54: saving model to Model/keypoint_classifier/keypoint_classifier.keras\n",
      "\u001b[1m36/36\u001b[0m \u001b[32m━━━━━━━━━━━━━━━━━━━━\u001b[0m\u001b[37m\u001b[0m \u001b[1m0s\u001b[0m 710us/step - accuracy: 0.8476 - loss: 0.4256 - val_accuracy: 0.9568 - val_loss: 0.2491\n",
      "Epoch 55/1000\n",
      "\u001b[1m 1/36\u001b[0m \u001b[37m━━━━━━━━━━━━━━━━━━━━\u001b[0m \u001b[1m0s\u001b[0m 6ms/step - accuracy: 0.8516 - loss: 0.4468\n",
      "Epoch 55: saving model to Model/keypoint_classifier/keypoint_classifier.keras\n",
      "\u001b[1m36/36\u001b[0m \u001b[32m━━━━━━━━━━━━━━━━━━━━\u001b[0m\u001b[37m\u001b[0m \u001b[1m0s\u001b[0m 703us/step - accuracy: 0.8453 - loss: 0.4437 - val_accuracy: 0.9561 - val_loss: 0.2483\n",
      "Epoch 56/1000\n",
      "\u001b[1m 1/36\u001b[0m \u001b[37m━━━━━━━━━━━━━━━━━━━━\u001b[0m \u001b[1m0s\u001b[0m 6ms/step - accuracy: 0.8750 - loss: 0.3320\n",
      "Epoch 56: saving model to Model/keypoint_classifier/keypoint_classifier.keras\n",
      "\u001b[1m36/36\u001b[0m \u001b[32m━━━━━━━━━━━━━━━━━━━━\u001b[0m\u001b[37m\u001b[0m \u001b[1m0s\u001b[0m 704us/step - accuracy: 0.8436 - loss: 0.4430 - val_accuracy: 0.9555 - val_loss: 0.2503\n",
      "Epoch 57/1000\n",
      "\u001b[1m 1/36\u001b[0m \u001b[37m━━━━━━━━━━━━━━━━━━━━\u001b[0m \u001b[1m0s\u001b[0m 6ms/step - accuracy: 0.8125 - loss: 0.5079\n",
      "Epoch 57: saving model to Model/keypoint_classifier/keypoint_classifier.keras\n",
      "\u001b[1m36/36\u001b[0m \u001b[32m━━━━━━━━━━━━━━━━━━━━\u001b[0m\u001b[37m\u001b[0m \u001b[1m0s\u001b[0m 697us/step - accuracy: 0.8481 - loss: 0.4329 - val_accuracy: 0.9508 - val_loss: 0.2477\n",
      "Epoch 58/1000\n",
      "\u001b[1m 1/36\u001b[0m \u001b[37m━━━━━━━━━━━━━━━━━━━━\u001b[0m \u001b[1m0s\u001b[0m 6ms/step - accuracy: 0.8828 - loss: 0.3066\n",
      "Epoch 58: saving model to Model/keypoint_classifier/keypoint_classifier.keras\n",
      "\u001b[1m36/36\u001b[0m \u001b[32m━━━━━━━━━━━━━━━━━━━━\u001b[0m\u001b[37m\u001b[0m \u001b[1m0s\u001b[0m 706us/step - accuracy: 0.8384 - loss: 0.4436 - val_accuracy: 0.9542 - val_loss: 0.2470\n",
      "Epoch 59/1000\n",
      "\u001b[1m 1/36\u001b[0m \u001b[37m━━━━━━━━━━━━━━━━━━━━\u001b[0m \u001b[1m0s\u001b[0m 6ms/step - accuracy: 0.8516 - loss: 0.3594\n",
      "Epoch 59: saving model to Model/keypoint_classifier/keypoint_classifier.keras\n",
      "\u001b[1m36/36\u001b[0m \u001b[32m━━━━━━━━━━━━━━━━━━━━\u001b[0m\u001b[37m\u001b[0m \u001b[1m0s\u001b[0m 700us/step - accuracy: 0.8488 - loss: 0.4262 - val_accuracy: 0.9502 - val_loss: 0.2482\n",
      "Epoch 60/1000\n",
      "\u001b[1m 1/36\u001b[0m \u001b[37m━━━━━━━━━━━━━━━━━━━━\u001b[0m \u001b[1m0s\u001b[0m 6ms/step - accuracy: 0.8203 - loss: 0.4862\n",
      "Epoch 60: saving model to Model/keypoint_classifier/keypoint_classifier.keras\n",
      "\u001b[1m36/36\u001b[0m \u001b[32m━━━━━━━━━━━━━━━━━━━━\u001b[0m\u001b[37m\u001b[0m \u001b[1m0s\u001b[0m 703us/step - accuracy: 0.8546 - loss: 0.4327 - val_accuracy: 0.9548 - val_loss: 0.2412\n",
      "Epoch 61/1000\n",
      "\u001b[1m 1/36\u001b[0m \u001b[37m━━━━━━━━━━━━━━━━━━━━\u001b[0m \u001b[1m0s\u001b[0m 6ms/step - accuracy: 0.8125 - loss: 0.4814\n",
      "Epoch 61: saving model to Model/keypoint_classifier/keypoint_classifier.keras\n",
      "\u001b[1m36/36\u001b[0m \u001b[32m━━━━━━━━━━━━━━━━━━━━\u001b[0m\u001b[37m\u001b[0m \u001b[1m0s\u001b[0m 716us/step - accuracy: 0.8462 - loss: 0.4343 - val_accuracy: 0.9548 - val_loss: 0.2417\n",
      "Epoch 62/1000\n",
      "\u001b[1m 1/36\u001b[0m \u001b[37m━━━━━━━━━━━━━━━━━━━━\u001b[0m \u001b[1m0s\u001b[0m 6ms/step - accuracy: 0.8125 - loss: 0.4460\n",
      "Epoch 62: saving model to Model/keypoint_classifier/keypoint_classifier.keras\n",
      "\u001b[1m36/36\u001b[0m \u001b[32m━━━━━━━━━━━━━━━━━━━━\u001b[0m\u001b[37m\u001b[0m \u001b[1m0s\u001b[0m 716us/step - accuracy: 0.8390 - loss: 0.4389 - val_accuracy: 0.9548 - val_loss: 0.2442\n",
      "Epoch 63/1000\n",
      "\u001b[1m 1/36\u001b[0m \u001b[37m━━━━━━━━━━━━━━━━━━━━\u001b[0m \u001b[1m0s\u001b[0m 6ms/step - accuracy: 0.8906 - loss: 0.3631\n",
      "Epoch 63: saving model to Model/keypoint_classifier/keypoint_classifier.keras\n",
      "\u001b[1m36/36\u001b[0m \u001b[32m━━━━━━━━━━━━━━━━━━━━\u001b[0m\u001b[37m\u001b[0m \u001b[1m0s\u001b[0m 707us/step - accuracy: 0.8450 - loss: 0.4298 - val_accuracy: 0.9561 - val_loss: 0.2402\n",
      "Epoch 64/1000\n",
      "\u001b[1m 1/36\u001b[0m \u001b[37m━━━━━━━━━━━━━━━━━━━━\u001b[0m \u001b[1m0s\u001b[0m 6ms/step - accuracy: 0.8984 - loss: 0.4023\n",
      "Epoch 64: saving model to Model/keypoint_classifier/keypoint_classifier.keras\n",
      "\u001b[1m36/36\u001b[0m \u001b[32m━━━━━━━━━━━━━━━━━━━━\u001b[0m\u001b[37m\u001b[0m \u001b[1m0s\u001b[0m 705us/step - accuracy: 0.8532 - loss: 0.4271 - val_accuracy: 0.9568 - val_loss: 0.2407\n",
      "Epoch 65/1000\n",
      "\u001b[1m 1/36\u001b[0m \u001b[37m━━━━━━━━━━━━━━━━━━━━\u001b[0m \u001b[1m0s\u001b[0m 6ms/step - accuracy: 0.8594 - loss: 0.4722\n",
      "Epoch 65: saving model to Model/keypoint_classifier/keypoint_classifier.keras\n",
      "\u001b[1m36/36\u001b[0m \u001b[32m━━━━━━━━━━━━━━━━━━━━\u001b[0m\u001b[37m\u001b[0m \u001b[1m0s\u001b[0m 705us/step - accuracy: 0.8462 - loss: 0.4451 - val_accuracy: 0.9561 - val_loss: 0.2452\n",
      "Epoch 66/1000\n",
      "\u001b[1m 1/36\u001b[0m \u001b[37m━━━━━━━━━━━━━━━━━━━━\u001b[0m \u001b[1m0s\u001b[0m 6ms/step - accuracy: 0.8047 - loss: 0.5440\n",
      "Epoch 66: saving model to Model/keypoint_classifier/keypoint_classifier.keras\n",
      "\u001b[1m36/36\u001b[0m \u001b[32m━━━━━━━━━━━━━━━━━━━━\u001b[0m\u001b[37m\u001b[0m \u001b[1m0s\u001b[0m 709us/step - accuracy: 0.8464 - loss: 0.4461 - val_accuracy: 0.9568 - val_loss: 0.2360\n",
      "Epoch 67/1000\n",
      "\u001b[1m 1/36\u001b[0m \u001b[37m━━━━━━━━━━━━━━━━━━━━\u001b[0m \u001b[1m0s\u001b[0m 6ms/step - accuracy: 0.8281 - loss: 0.4247\n",
      "Epoch 67: saving model to Model/keypoint_classifier/keypoint_classifier.keras\n",
      "\u001b[1m36/36\u001b[0m \u001b[32m━━━━━━━━━━━━━━━━━━━━\u001b[0m\u001b[37m\u001b[0m \u001b[1m0s\u001b[0m 710us/step - accuracy: 0.8531 - loss: 0.4358 - val_accuracy: 0.9568 - val_loss: 0.2352\n",
      "Epoch 68/1000\n",
      "\u001b[1m 1/36\u001b[0m \u001b[37m━━━━━━━━━━━━━━━━━━━━\u001b[0m \u001b[1m0s\u001b[0m 6ms/step - accuracy: 0.8828 - loss: 0.4376\n",
      "Epoch 68: saving model to Model/keypoint_classifier/keypoint_classifier.keras\n",
      "\u001b[1m36/36\u001b[0m \u001b[32m━━━━━━━━━━━━━━━━━━━━\u001b[0m\u001b[37m\u001b[0m \u001b[1m0s\u001b[0m 715us/step - accuracy: 0.8571 - loss: 0.4251 - val_accuracy: 0.9561 - val_loss: 0.2351\n",
      "Epoch 69/1000\n",
      "\u001b[1m 1/36\u001b[0m \u001b[37m━━━━━━━━━━━━━━━━━━━━\u001b[0m \u001b[1m0s\u001b[0m 6ms/step - accuracy: 0.9141 - loss: 0.3038\n",
      "Epoch 69: saving model to Model/keypoint_classifier/keypoint_classifier.keras\n",
      "\u001b[1m36/36\u001b[0m \u001b[32m━━━━━━━━━━━━━━━━━━━━\u001b[0m\u001b[37m\u001b[0m \u001b[1m0s\u001b[0m 716us/step - accuracy: 0.8598 - loss: 0.4082 - val_accuracy: 0.9575 - val_loss: 0.2334\n",
      "Epoch 70/1000\n",
      "\u001b[1m 1/36\u001b[0m \u001b[37m━━━━━━━━━━━━━━━━━━━━\u001b[0m \u001b[1m0s\u001b[0m 6ms/step - accuracy: 0.8750 - loss: 0.3527\n",
      "Epoch 70: saving model to Model/keypoint_classifier/keypoint_classifier.keras\n",
      "\u001b[1m36/36\u001b[0m \u001b[32m━━━━━━━━━━━━━━━━━━━━\u001b[0m\u001b[37m\u001b[0m \u001b[1m0s\u001b[0m 714us/step - accuracy: 0.8477 - loss: 0.4315 - val_accuracy: 0.9581 - val_loss: 0.2309\n",
      "Epoch 71/1000\n",
      "\u001b[1m 1/36\u001b[0m \u001b[37m━━━━━━━━━━━━━━━━━━━━\u001b[0m \u001b[1m0s\u001b[0m 6ms/step - accuracy: 0.8359 - loss: 0.4805\n",
      "Epoch 71: saving model to Model/keypoint_classifier/keypoint_classifier.keras\n",
      "\u001b[1m36/36\u001b[0m \u001b[32m━━━━━━━━━━━━━━━━━━━━\u001b[0m\u001b[37m\u001b[0m \u001b[1m0s\u001b[0m 703us/step - accuracy: 0.8513 - loss: 0.4261 - val_accuracy: 0.9568 - val_loss: 0.2298\n",
      "Epoch 72/1000\n",
      "\u001b[1m 1/36\u001b[0m \u001b[37m━━━━━━━━━━━━━━━━━━━━\u001b[0m \u001b[1m0s\u001b[0m 6ms/step - accuracy: 0.8516 - loss: 0.4351\n",
      "Epoch 72: saving model to Model/keypoint_classifier/keypoint_classifier.keras\n",
      "\u001b[1m36/36\u001b[0m \u001b[32m━━━━━━━━━━━━━━━━━━━━\u001b[0m\u001b[37m\u001b[0m \u001b[1m0s\u001b[0m 704us/step - accuracy: 0.8511 - loss: 0.4240 - val_accuracy: 0.9575 - val_loss: 0.2306\n",
      "Epoch 73/1000\n",
      "\u001b[1m 1/36\u001b[0m \u001b[37m━━━━━━━━━━━━━━━━━━━━\u001b[0m \u001b[1m0s\u001b[0m 6ms/step - accuracy: 0.8672 - loss: 0.6002\n",
      "Epoch 73: saving model to Model/keypoint_classifier/keypoint_classifier.keras\n",
      "\u001b[1m36/36\u001b[0m \u001b[32m━━━━━━━━━━━━━━━━━━━━\u001b[0m\u001b[37m\u001b[0m \u001b[1m0s\u001b[0m 705us/step - accuracy: 0.8590 - loss: 0.4181 - val_accuracy: 0.9575 - val_loss: 0.2286\n",
      "Epoch 74/1000\n",
      "\u001b[1m 1/36\u001b[0m \u001b[37m━━━━━━━━━━━━━━━━━━━━\u001b[0m \u001b[1m0s\u001b[0m 6ms/step - accuracy: 0.8672 - loss: 0.3814\n",
      "Epoch 74: saving model to Model/keypoint_classifier/keypoint_classifier.keras\n",
      "\u001b[1m36/36\u001b[0m \u001b[32m━━━━━━━━━━━━━━━━━━━━\u001b[0m\u001b[37m\u001b[0m \u001b[1m0s\u001b[0m 712us/step - accuracy: 0.8631 - loss: 0.4000 - val_accuracy: 0.9588 - val_loss: 0.2253\n",
      "Epoch 75/1000\n",
      "\u001b[1m 1/36\u001b[0m \u001b[37m━━━━━━━━━━━━━━━━━━━━\u001b[0m \u001b[1m0s\u001b[0m 6ms/step - accuracy: 0.7969 - loss: 0.5135\n",
      "Epoch 75: saving model to Model/keypoint_classifier/keypoint_classifier.keras\n",
      "\u001b[1m36/36\u001b[0m \u001b[32m━━━━━━━━━━━━━━━━━━━━\u001b[0m\u001b[37m\u001b[0m \u001b[1m0s\u001b[0m 710us/step - accuracy: 0.8471 - loss: 0.4333 - val_accuracy: 0.9588 - val_loss: 0.2241\n",
      "Epoch 76/1000\n",
      "\u001b[1m 1/36\u001b[0m \u001b[37m━━━━━━━━━━━━━━━━━━━━\u001b[0m \u001b[1m0s\u001b[0m 6ms/step - accuracy: 0.8750 - loss: 0.4528\n",
      "Epoch 76: saving model to Model/keypoint_classifier/keypoint_classifier.keras\n",
      "\u001b[1m36/36\u001b[0m \u001b[32m━━━━━━━━━━━━━━━━━━━━\u001b[0m\u001b[37m\u001b[0m \u001b[1m0s\u001b[0m 705us/step - accuracy: 0.8564 - loss: 0.4265 - val_accuracy: 0.9601 - val_loss: 0.2274\n",
      "Epoch 77/1000\n",
      "\u001b[1m 1/36\u001b[0m \u001b[37m━━━━━━━━━━━━━━━━━━━━\u001b[0m \u001b[1m0s\u001b[0m 6ms/step - accuracy: 0.8594 - loss: 0.3795\n",
      "Epoch 77: saving model to Model/keypoint_classifier/keypoint_classifier.keras\n",
      "\u001b[1m36/36\u001b[0m \u001b[32m━━━━━━━━━━━━━━━━━━━━\u001b[0m\u001b[37m\u001b[0m \u001b[1m0s\u001b[0m 739us/step - accuracy: 0.8472 - loss: 0.4390 - val_accuracy: 0.9595 - val_loss: 0.2236\n",
      "Epoch 78/1000\n",
      "\u001b[1m 1/36\u001b[0m \u001b[37m━━━━━━━━━━━━━━━━━━━━\u001b[0m \u001b[1m0s\u001b[0m 6ms/step - accuracy: 0.8203 - loss: 0.4262\n",
      "Epoch 78: saving model to Model/keypoint_classifier/keypoint_classifier.keras\n",
      "\u001b[1m36/36\u001b[0m \u001b[32m━━━━━━━━━━━━━━━━━━━━\u001b[0m\u001b[37m\u001b[0m \u001b[1m0s\u001b[0m 718us/step - accuracy: 0.8603 - loss: 0.4035 - val_accuracy: 0.9561 - val_loss: 0.2245\n",
      "Epoch 79/1000\n",
      "\u001b[1m 1/36\u001b[0m \u001b[37m━━━━━━━━━━━━━━━━━━━━\u001b[0m \u001b[1m0s\u001b[0m 7ms/step - accuracy: 0.8828 - loss: 0.3806\n",
      "Epoch 79: saving model to Model/keypoint_classifier/keypoint_classifier.keras\n",
      "\u001b[1m36/36\u001b[0m \u001b[32m━━━━━━━━━━━━━━━━━━━━\u001b[0m\u001b[37m\u001b[0m \u001b[1m0s\u001b[0m 739us/step - accuracy: 0.8528 - loss: 0.4349 - val_accuracy: 0.9608 - val_loss: 0.2205\n",
      "Epoch 80/1000\n",
      "\u001b[1m 1/36\u001b[0m \u001b[37m━━━━━━━━━━━━━━━━━━━━\u001b[0m \u001b[1m0s\u001b[0m 6ms/step - accuracy: 0.8438 - loss: 0.4291\n",
      "Epoch 80: saving model to Model/keypoint_classifier/keypoint_classifier.keras\n",
      "\u001b[1m36/36\u001b[0m \u001b[32m━━━━━━━━━━━━━━━━━━━━\u001b[0m\u001b[37m\u001b[0m \u001b[1m0s\u001b[0m 736us/step - accuracy: 0.8502 - loss: 0.4278 - val_accuracy: 0.9615 - val_loss: 0.2200\n",
      "Epoch 81/1000\n",
      "\u001b[1m 1/36\u001b[0m \u001b[37m━━━━━━━━━━━━━━━━━━━━\u001b[0m \u001b[1m0s\u001b[0m 6ms/step - accuracy: 0.8828 - loss: 0.3916\n",
      "Epoch 81: saving model to Model/keypoint_classifier/keypoint_classifier.keras\n",
      "\u001b[1m36/36\u001b[0m \u001b[32m━━━━━━━━━━━━━━━━━━━━\u001b[0m\u001b[37m\u001b[0m \u001b[1m0s\u001b[0m 711us/step - accuracy: 0.8564 - loss: 0.4139 - val_accuracy: 0.9608 - val_loss: 0.2161\n",
      "Epoch 82/1000\n",
      "\u001b[1m 1/36\u001b[0m \u001b[37m━━━━━━━━━━━━━━━━━━━━\u001b[0m \u001b[1m0s\u001b[0m 7ms/step - accuracy: 0.8984 - loss: 0.3943\n",
      "Epoch 82: saving model to Model/keypoint_classifier/keypoint_classifier.keras\n",
      "\u001b[1m36/36\u001b[0m \u001b[32m━━━━━━━━━━━━━━━━━━━━\u001b[0m\u001b[37m\u001b[0m \u001b[1m0s\u001b[0m 742us/step - accuracy: 0.8609 - loss: 0.4072 - val_accuracy: 0.9601 - val_loss: 0.2160\n",
      "Epoch 83/1000\n",
      "\u001b[1m 1/36\u001b[0m \u001b[37m━━━━━━━━━━━━━━━━━━━━\u001b[0m \u001b[1m0s\u001b[0m 7ms/step - accuracy: 0.8906 - loss: 0.4010\n",
      "Epoch 83: saving model to Model/keypoint_classifier/keypoint_classifier.keras\n",
      "\u001b[1m36/36\u001b[0m \u001b[32m━━━━━━━━━━━━━━━━━━━━\u001b[0m\u001b[37m\u001b[0m \u001b[1m0s\u001b[0m 728us/step - accuracy: 0.8423 - loss: 0.4334 - val_accuracy: 0.9601 - val_loss: 0.2187\n",
      "Epoch 84/1000\n",
      "\u001b[1m 1/36\u001b[0m \u001b[37m━━━━━━━━━━━━━━━━━━━━\u001b[0m \u001b[1m0s\u001b[0m 6ms/step - accuracy: 0.8516 - loss: 0.4224\n",
      "Epoch 84: saving model to Model/keypoint_classifier/keypoint_classifier.keras\n",
      "\u001b[1m36/36\u001b[0m \u001b[32m━━━━━━━━━━━━━━━━━━━━\u001b[0m\u001b[37m\u001b[0m \u001b[1m0s\u001b[0m 738us/step - accuracy: 0.8500 - loss: 0.4267 - val_accuracy: 0.9601 - val_loss: 0.2210\n",
      "Epoch 85/1000\n",
      "\u001b[1m 1/36\u001b[0m \u001b[37m━━━━━━━━━━━━━━━━━━━━\u001b[0m \u001b[1m0s\u001b[0m 7ms/step - accuracy: 0.8750 - loss: 0.3667\n",
      "Epoch 85: saving model to Model/keypoint_classifier/keypoint_classifier.keras\n",
      "\u001b[1m36/36\u001b[0m \u001b[32m━━━━━━━━━━━━━━━━━━━━\u001b[0m\u001b[37m\u001b[0m \u001b[1m0s\u001b[0m 727us/step - accuracy: 0.8536 - loss: 0.4244 - val_accuracy: 0.9615 - val_loss: 0.2174\n",
      "Epoch 86/1000\n",
      "\u001b[1m 1/36\u001b[0m \u001b[37m━━━━━━━━━━━━━━━━━━━━\u001b[0m \u001b[1m0s\u001b[0m 7ms/step - accuracy: 0.8359 - loss: 0.4082\n",
      "Epoch 86: saving model to Model/keypoint_classifier/keypoint_classifier.keras\n",
      "\u001b[1m36/36\u001b[0m \u001b[32m━━━━━━━━━━━━━━━━━━━━\u001b[0m\u001b[37m\u001b[0m \u001b[1m0s\u001b[0m 742us/step - accuracy: 0.8498 - loss: 0.4252 - val_accuracy: 0.9608 - val_loss: 0.2141\n",
      "Epoch 87/1000\n",
      "\u001b[1m 1/36\u001b[0m \u001b[37m━━━━━━━━━━━━━━━━━━━━\u001b[0m \u001b[1m0s\u001b[0m 6ms/step - accuracy: 0.8828 - loss: 0.3507\n",
      "Epoch 87: saving model to Model/keypoint_classifier/keypoint_classifier.keras\n",
      "\u001b[1m36/36\u001b[0m \u001b[32m━━━━━━━━━━━━━━━━━━━━\u001b[0m\u001b[37m\u001b[0m \u001b[1m0s\u001b[0m 751us/step - accuracy: 0.8663 - loss: 0.3976 - val_accuracy: 0.9615 - val_loss: 0.2140\n",
      "Epoch 88/1000\n",
      "\u001b[1m 1/36\u001b[0m \u001b[37m━━━━━━━━━━━━━━━━━━━━\u001b[0m \u001b[1m0s\u001b[0m 6ms/step - accuracy: 0.8047 - loss: 0.5209\n",
      "Epoch 88: saving model to Model/keypoint_classifier/keypoint_classifier.keras\n",
      "\u001b[1m36/36\u001b[0m \u001b[32m━━━━━━━━━━━━━━━━━━━━\u001b[0m\u001b[37m\u001b[0m \u001b[1m0s\u001b[0m 712us/step - accuracy: 0.8458 - loss: 0.4269 - val_accuracy: 0.9615 - val_loss: 0.2154\n",
      "Epoch 89/1000\n",
      "\u001b[1m 1/36\u001b[0m \u001b[37m━━━━━━━━━━━━━━━━━━━━\u001b[0m \u001b[1m0s\u001b[0m 7ms/step - accuracy: 0.8203 - loss: 0.4835\n",
      "Epoch 89: saving model to Model/keypoint_classifier/keypoint_classifier.keras\n",
      "\u001b[1m36/36\u001b[0m \u001b[32m━━━━━━━━━━━━━━━━━━━━\u001b[0m\u001b[37m\u001b[0m \u001b[1m0s\u001b[0m 770us/step - accuracy: 0.8546 - loss: 0.4233 - val_accuracy: 0.9608 - val_loss: 0.2185\n",
      "Epoch 90/1000\n",
      "\u001b[1m 1/36\u001b[0m \u001b[37m━━━━━━━━━━━━━━━━━━━━\u001b[0m \u001b[1m0s\u001b[0m 7ms/step - accuracy: 0.8828 - loss: 0.4039\n",
      "Epoch 90: saving model to Model/keypoint_classifier/keypoint_classifier.keras\n",
      "\u001b[1m36/36\u001b[0m \u001b[32m━━━━━━━━━━━━━━━━━━━━\u001b[0m\u001b[37m\u001b[0m \u001b[1m0s\u001b[0m 791us/step - accuracy: 0.8675 - loss: 0.4185 - val_accuracy: 0.9595 - val_loss: 0.2157\n",
      "Epoch 91/1000\n",
      "\u001b[1m 1/36\u001b[0m \u001b[37m━━━━━━━━━━━━━━━━━━━━\u001b[0m \u001b[1m0s\u001b[0m 7ms/step - accuracy: 0.8672 - loss: 0.6571\n",
      "Epoch 91: saving model to Model/keypoint_classifier/keypoint_classifier.keras\n",
      "\u001b[1m36/36\u001b[0m \u001b[32m━━━━━━━━━━━━━━━━━━━━\u001b[0m\u001b[37m\u001b[0m \u001b[1m0s\u001b[0m 751us/step - accuracy: 0.8631 - loss: 0.4351 - val_accuracy: 0.9615 - val_loss: 0.2136\n",
      "Epoch 92/1000\n",
      "\u001b[1m 1/36\u001b[0m \u001b[37m━━━━━━━━━━━━━━━━━━━━\u001b[0m \u001b[1m0s\u001b[0m 7ms/step - accuracy: 0.8672 - loss: 0.3636\n",
      "Epoch 92: saving model to Model/keypoint_classifier/keypoint_classifier.keras\n",
      "\u001b[1m36/36\u001b[0m \u001b[32m━━━━━━━━━━━━━━━━━━━━\u001b[0m\u001b[37m\u001b[0m \u001b[1m0s\u001b[0m 767us/step - accuracy: 0.8668 - loss: 0.3905 - val_accuracy: 0.9601 - val_loss: 0.2167\n",
      "Epoch 93/1000\n",
      "\u001b[1m 1/36\u001b[0m \u001b[37m━━━━━━━━━━━━━━━━━━━━\u001b[0m \u001b[1m0s\u001b[0m 7ms/step - accuracy: 0.7812 - loss: 0.5560\n",
      "Epoch 93: saving model to Model/keypoint_classifier/keypoint_classifier.keras\n",
      "\u001b[1m36/36\u001b[0m \u001b[32m━━━━━━━━━━━━━━━━━━━━\u001b[0m\u001b[37m\u001b[0m \u001b[1m0s\u001b[0m 715us/step - accuracy: 0.8461 - loss: 0.4278 - val_accuracy: 0.9575 - val_loss: 0.2127\n",
      "Epoch 94/1000\n",
      "\u001b[1m 1/36\u001b[0m \u001b[37m━━━━━━━━━━━━━━━━━━━━\u001b[0m \u001b[1m0s\u001b[0m 6ms/step - accuracy: 0.8984 - loss: 0.3508\n",
      "Epoch 94: saving model to Model/keypoint_classifier/keypoint_classifier.keras\n",
      "\u001b[1m36/36\u001b[0m \u001b[32m━━━━━━━━━━━━━━━━━━━━\u001b[0m\u001b[37m\u001b[0m \u001b[1m0s\u001b[0m 723us/step - accuracy: 0.8593 - loss: 0.4159 - val_accuracy: 0.9608 - val_loss: 0.2143\n",
      "Epoch 95/1000\n",
      "\u001b[1m 1/36\u001b[0m \u001b[37m━━━━━━━━━━━━━━━━━━━━\u001b[0m \u001b[1m0s\u001b[0m 6ms/step - accuracy: 0.8750 - loss: 0.3757\n",
      "Epoch 95: saving model to Model/keypoint_classifier/keypoint_classifier.keras\n",
      "\u001b[1m36/36\u001b[0m \u001b[32m━━━━━━━━━━━━━━━━━━━━\u001b[0m\u001b[37m\u001b[0m \u001b[1m0s\u001b[0m 721us/step - accuracy: 0.8589 - loss: 0.4051 - val_accuracy: 0.9595 - val_loss: 0.2113\n",
      "Epoch 96/1000\n",
      "\u001b[1m 1/36\u001b[0m \u001b[37m━━━━━━━━━━━━━━━━━━━━\u001b[0m \u001b[1m0s\u001b[0m 6ms/step - accuracy: 0.8984 - loss: 0.3354\n",
      "Epoch 96: saving model to Model/keypoint_classifier/keypoint_classifier.keras\n",
      "\u001b[1m36/36\u001b[0m \u001b[32m━━━━━━━━━━━━━━━━━━━━\u001b[0m\u001b[37m\u001b[0m \u001b[1m0s\u001b[0m 710us/step - accuracy: 0.8652 - loss: 0.4039 - val_accuracy: 0.9608 - val_loss: 0.2094\n",
      "Epoch 97/1000\n",
      "\u001b[1m 1/36\u001b[0m \u001b[37m━━━━━━━━━━━━━━━━━━━━\u001b[0m \u001b[1m0s\u001b[0m 6ms/step - accuracy: 0.7969 - loss: 0.4483\n",
      "Epoch 97: saving model to Model/keypoint_classifier/keypoint_classifier.keras\n",
      "\u001b[1m36/36\u001b[0m \u001b[32m━━━━━━━━━━━━━━━━━━━━\u001b[0m\u001b[37m\u001b[0m \u001b[1m0s\u001b[0m 712us/step - accuracy: 0.8378 - loss: 0.4394 - val_accuracy: 0.9601 - val_loss: 0.2167\n",
      "Epoch 98/1000\n",
      "\u001b[1m 1/36\u001b[0m \u001b[37m━━━━━━━━━━━━━━━━━━━━\u001b[0m \u001b[1m0s\u001b[0m 6ms/step - accuracy: 0.8359 - loss: 0.5063\n",
      "Epoch 98: saving model to Model/keypoint_classifier/keypoint_classifier.keras\n",
      "\u001b[1m36/36\u001b[0m \u001b[32m━━━━━━━━━━━━━━━━━━━━\u001b[0m\u001b[37m\u001b[0m \u001b[1m0s\u001b[0m 712us/step - accuracy: 0.8708 - loss: 0.3960 - val_accuracy: 0.9608 - val_loss: 0.2077\n",
      "Epoch 99/1000\n",
      "\u001b[1m 1/36\u001b[0m \u001b[37m━━━━━━━━━━━━━━━━━━━━\u001b[0m \u001b[1m0s\u001b[0m 6ms/step - accuracy: 0.8906 - loss: 0.3276\n",
      "Epoch 99: saving model to Model/keypoint_classifier/keypoint_classifier.keras\n",
      "\u001b[1m36/36\u001b[0m \u001b[32m━━━━━━━━━━━━━━━━━━━━\u001b[0m\u001b[37m\u001b[0m \u001b[1m0s\u001b[0m 716us/step - accuracy: 0.8645 - loss: 0.3946 - val_accuracy: 0.9595 - val_loss: 0.2104\n",
      "Epoch 100/1000\n",
      "\u001b[1m 1/36\u001b[0m \u001b[37m━━━━━━━━━━━━━━━━━━━━\u001b[0m \u001b[1m0s\u001b[0m 6ms/step - accuracy: 0.8438 - loss: 0.3867\n",
      "Epoch 100: saving model to Model/keypoint_classifier/keypoint_classifier.keras\n",
      "\u001b[1m36/36\u001b[0m \u001b[32m━━━━━━━━━━━━━━━━━━━━\u001b[0m\u001b[37m\u001b[0m \u001b[1m0s\u001b[0m 714us/step - accuracy: 0.8635 - loss: 0.3857 - val_accuracy: 0.9595 - val_loss: 0.2114\n",
      "Epoch 101/1000\n",
      "\u001b[1m 1/36\u001b[0m \u001b[37m━━━━━━━━━━━━━━━━━━━━\u001b[0m \u001b[1m0s\u001b[0m 6ms/step - accuracy: 0.8203 - loss: 0.4467\n",
      "Epoch 101: saving model to Model/keypoint_classifier/keypoint_classifier.keras\n",
      "\u001b[1m36/36\u001b[0m \u001b[32m━━━━━━━━━━━━━━━━━━━━\u001b[0m\u001b[37m\u001b[0m \u001b[1m0s\u001b[0m 707us/step - accuracy: 0.8558 - loss: 0.4142 - val_accuracy: 0.9588 - val_loss: 0.2056\n",
      "Epoch 102/1000\n",
      "\u001b[1m 1/36\u001b[0m \u001b[37m━━━━━━━━━━━━━━━━━━━━\u001b[0m \u001b[1m0s\u001b[0m 6ms/step - accuracy: 0.8594 - loss: 0.3919\n",
      "Epoch 102: saving model to Model/keypoint_classifier/keypoint_classifier.keras\n",
      "\u001b[1m36/36\u001b[0m \u001b[32m━━━━━━━━━━━━━━━━━━━━\u001b[0m\u001b[37m\u001b[0m \u001b[1m0s\u001b[0m 710us/step - accuracy: 0.8626 - loss: 0.4009 - val_accuracy: 0.9595 - val_loss: 0.2039\n",
      "Epoch 103/1000\n",
      "\u001b[1m 1/36\u001b[0m \u001b[37m━━━━━━━━━━━━━━━━━━━━\u001b[0m \u001b[1m0s\u001b[0m 6ms/step - accuracy: 0.8516 - loss: 0.3553\n",
      "Epoch 103: saving model to Model/keypoint_classifier/keypoint_classifier.keras\n",
      "\u001b[1m36/36\u001b[0m \u001b[32m━━━━━━━━━━━━━━━━━━━━\u001b[0m\u001b[37m\u001b[0m \u001b[1m0s\u001b[0m 716us/step - accuracy: 0.8558 - loss: 0.4125 - val_accuracy: 0.9588 - val_loss: 0.2049\n",
      "Epoch 104/1000\n",
      "\u001b[1m 1/36\u001b[0m \u001b[37m━━━━━━━━━━━━━━━━━━━━\u001b[0m \u001b[1m0s\u001b[0m 6ms/step - accuracy: 0.8672 - loss: 0.4718\n",
      "Epoch 104: saving model to Model/keypoint_classifier/keypoint_classifier.keras\n",
      "\u001b[1m36/36\u001b[0m \u001b[32m━━━━━━━━━━━━━━━━━━━━\u001b[0m\u001b[37m\u001b[0m \u001b[1m0s\u001b[0m 720us/step - accuracy: 0.8718 - loss: 0.4179 - val_accuracy: 0.9588 - val_loss: 0.2062\n",
      "Epoch 105/1000\n",
      "\u001b[1m 1/36\u001b[0m \u001b[37m━━━━━━━━━━━━━━━━━━━━\u001b[0m \u001b[1m0s\u001b[0m 6ms/step - accuracy: 0.8906 - loss: 0.3621\n",
      "Epoch 105: saving model to Model/keypoint_classifier/keypoint_classifier.keras\n",
      "\u001b[1m36/36\u001b[0m \u001b[32m━━━━━━━━━━━━━━━━━━━━\u001b[0m\u001b[37m\u001b[0m \u001b[1m0s\u001b[0m 711us/step - accuracy: 0.8694 - loss: 0.3874 - val_accuracy: 0.9588 - val_loss: 0.2046\n",
      "Epoch 106/1000\n",
      "\u001b[1m 1/36\u001b[0m \u001b[37m━━━━━━━━━━━━━━━━━━━━\u001b[0m \u001b[1m0s\u001b[0m 6ms/step - accuracy: 0.8438 - loss: 0.4669\n",
      "Epoch 106: saving model to Model/keypoint_classifier/keypoint_classifier.keras\n",
      "\u001b[1m36/36\u001b[0m \u001b[32m━━━━━━━━━━━━━━━━━━━━\u001b[0m\u001b[37m\u001b[0m \u001b[1m0s\u001b[0m 714us/step - accuracy: 0.8644 - loss: 0.4137 - val_accuracy: 0.9588 - val_loss: 0.1982\n",
      "Epoch 107/1000\n",
      "\u001b[1m 1/36\u001b[0m \u001b[37m━━━━━━━━━━━━━━━━━━━━\u001b[0m \u001b[1m0s\u001b[0m 6ms/step - accuracy: 0.8359 - loss: 0.3851\n",
      "Epoch 107: saving model to Model/keypoint_classifier/keypoint_classifier.keras\n",
      "\u001b[1m36/36\u001b[0m \u001b[32m━━━━━━━━━━━━━━━━━━━━\u001b[0m\u001b[37m\u001b[0m \u001b[1m0s\u001b[0m 702us/step - accuracy: 0.8687 - loss: 0.3872 - val_accuracy: 0.9581 - val_loss: 0.1969\n",
      "Epoch 108/1000\n",
      "\u001b[1m 1/36\u001b[0m \u001b[37m━━━━━━━━━━━━━━━━━━━━\u001b[0m \u001b[1m0s\u001b[0m 6ms/step - accuracy: 0.8828 - loss: 0.3247\n",
      "Epoch 108: saving model to Model/keypoint_classifier/keypoint_classifier.keras\n",
      "\u001b[1m36/36\u001b[0m \u001b[32m━━━━━━━━━━━━━━━━━━━━\u001b[0m\u001b[37m\u001b[0m \u001b[1m0s\u001b[0m 711us/step - accuracy: 0.8619 - loss: 0.4082 - val_accuracy: 0.9595 - val_loss: 0.1982\n",
      "Epoch 109/1000\n",
      "\u001b[1m 1/36\u001b[0m \u001b[37m━━━━━━━━━━━━━━━━━━━━\u001b[0m \u001b[1m0s\u001b[0m 6ms/step - accuracy: 0.8984 - loss: 0.3170\n",
      "Epoch 109: saving model to Model/keypoint_classifier/keypoint_classifier.keras\n",
      "\u001b[1m36/36\u001b[0m \u001b[32m━━━━━━━━━━━━━━━━━━━━\u001b[0m\u001b[37m\u001b[0m \u001b[1m0s\u001b[0m 719us/step - accuracy: 0.8756 - loss: 0.3778 - val_accuracy: 0.9595 - val_loss: 0.2004\n",
      "Epoch 110/1000\n",
      "\u001b[1m 1/36\u001b[0m \u001b[37m━━━━━━━━━━━━━━━━━━━━\u001b[0m \u001b[1m0s\u001b[0m 6ms/step - accuracy: 0.8516 - loss: 0.3428\n",
      "Epoch 110: saving model to Model/keypoint_classifier/keypoint_classifier.keras\n",
      "\u001b[1m36/36\u001b[0m \u001b[32m━━━━━━━━━━━━━━━━━━━━\u001b[0m\u001b[37m\u001b[0m \u001b[1m0s\u001b[0m 719us/step - accuracy: 0.8682 - loss: 0.3753 - val_accuracy: 0.9595 - val_loss: 0.1975\n",
      "Epoch 111/1000\n",
      "\u001b[1m 1/36\u001b[0m \u001b[37m━━━━━━━━━━━━━━━━━━━━\u001b[0m \u001b[1m0s\u001b[0m 6ms/step - accuracy: 0.8828 - loss: 0.3943\n",
      "Epoch 111: saving model to Model/keypoint_classifier/keypoint_classifier.keras\n",
      "\u001b[1m36/36\u001b[0m \u001b[32m━━━━━━━━━━━━━━━━━━━━\u001b[0m\u001b[37m\u001b[0m \u001b[1m0s\u001b[0m 734us/step - accuracy: 0.8683 - loss: 0.3900 - val_accuracy: 0.9575 - val_loss: 0.2025\n",
      "Epoch 112/1000\n",
      "\u001b[1m 1/36\u001b[0m \u001b[37m━━━━━━━━━━━━━━━━━━━━\u001b[0m \u001b[1m0s\u001b[0m 6ms/step - accuracy: 0.8984 - loss: 0.3156\n",
      "Epoch 112: saving model to Model/keypoint_classifier/keypoint_classifier.keras\n",
      "\u001b[1m36/36\u001b[0m \u001b[32m━━━━━━━━━━━━━━━━━━━━\u001b[0m\u001b[37m\u001b[0m \u001b[1m0s\u001b[0m 775us/step - accuracy: 0.8678 - loss: 0.3954 - val_accuracy: 0.9595 - val_loss: 0.2021\n",
      "Epoch 113/1000\n",
      "\u001b[1m 1/36\u001b[0m \u001b[37m━━━━━━━━━━━━━━━━━━━━\u001b[0m \u001b[1m0s\u001b[0m 6ms/step - accuracy: 0.8828 - loss: 0.3566\n",
      "Epoch 113: saving model to Model/keypoint_classifier/keypoint_classifier.keras\n",
      "\u001b[1m36/36\u001b[0m \u001b[32m━━━━━━━━━━━━━━━━━━━━\u001b[0m\u001b[37m\u001b[0m \u001b[1m0s\u001b[0m 785us/step - accuracy: 0.8767 - loss: 0.3727 - val_accuracy: 0.9581 - val_loss: 0.1954\n",
      "Epoch 114/1000\n",
      "\u001b[1m 1/36\u001b[0m \u001b[37m━━━━━━━━━━━━━━━━━━━━\u001b[0m \u001b[1m0s\u001b[0m 7ms/step - accuracy: 0.9062 - loss: 0.3659\n",
      "Epoch 114: saving model to Model/keypoint_classifier/keypoint_classifier.keras\n",
      "\u001b[1m36/36\u001b[0m \u001b[32m━━━━━━━━━━━━━━━━━━━━\u001b[0m\u001b[37m\u001b[0m \u001b[1m0s\u001b[0m 820us/step - accuracy: 0.8840 - loss: 0.3526 - val_accuracy: 0.9581 - val_loss: 0.1929\n",
      "Epoch 115/1000\n",
      "\u001b[1m 1/36\u001b[0m \u001b[37m━━━━━━━━━━━━━━━━━━━━\u001b[0m \u001b[1m0s\u001b[0m 7ms/step - accuracy: 0.8672 - loss: 0.3492\n",
      "Epoch 115: saving model to Model/keypoint_classifier/keypoint_classifier.keras\n",
      "\u001b[1m36/36\u001b[0m \u001b[32m━━━━━━━━━━━━━━━━━━━━\u001b[0m\u001b[37m\u001b[0m \u001b[1m0s\u001b[0m 778us/step - accuracy: 0.8655 - loss: 0.3882 - val_accuracy: 0.9595 - val_loss: 0.1994\n",
      "Epoch 116/1000\n",
      "\u001b[1m 1/36\u001b[0m \u001b[37m━━━━━━━━━━━━━━━━━━━━\u001b[0m \u001b[1m0s\u001b[0m 7ms/step - accuracy: 0.8594 - loss: 0.4910\n",
      "Epoch 116: saving model to Model/keypoint_classifier/keypoint_classifier.keras\n",
      "\u001b[1m36/36\u001b[0m \u001b[32m━━━━━━━━━━━━━━━━━━━━\u001b[0m\u001b[37m\u001b[0m \u001b[1m0s\u001b[0m 809us/step - accuracy: 0.8587 - loss: 0.4371 - val_accuracy: 0.9601 - val_loss: 0.1980\n",
      "Epoch 117/1000\n",
      "\u001b[1m 1/36\u001b[0m \u001b[37m━━━━━━━━━━━━━━━━━━━━\u001b[0m \u001b[1m0s\u001b[0m 7ms/step - accuracy: 0.8516 - loss: 0.3394\n",
      "Epoch 117: saving model to Model/keypoint_classifier/keypoint_classifier.keras\n",
      "\u001b[1m36/36\u001b[0m \u001b[32m━━━━━━━━━━━━━━━━━━━━\u001b[0m\u001b[37m\u001b[0m \u001b[1m0s\u001b[0m 835us/step - accuracy: 0.8612 - loss: 0.4057 - val_accuracy: 0.9588 - val_loss: 0.2005\n",
      "Epoch 118/1000\n",
      "\u001b[1m 1/36\u001b[0m \u001b[37m━━━━━━━━━━━━━━━━━━━━\u001b[0m \u001b[1m0s\u001b[0m 7ms/step - accuracy: 0.8594 - loss: 0.4139\n",
      "Epoch 118: saving model to Model/keypoint_classifier/keypoint_classifier.keras\n",
      "\u001b[1m36/36\u001b[0m \u001b[32m━━━━━━━━━━━━━━━━━━━━\u001b[0m\u001b[37m\u001b[0m \u001b[1m0s\u001b[0m 847us/step - accuracy: 0.8707 - loss: 0.3700 - val_accuracy: 0.9588 - val_loss: 0.2002\n",
      "Epoch 119/1000\n",
      "\u001b[1m 1/36\u001b[0m \u001b[37m━━━━━━━━━━━━━━━━━━━━\u001b[0m \u001b[1m0s\u001b[0m 7ms/step - accuracy: 0.9219 - loss: 0.2326\n",
      "Epoch 119: saving model to Model/keypoint_classifier/keypoint_classifier.keras\n",
      "\u001b[1m36/36\u001b[0m \u001b[32m━━━━━━━━━━━━━━━━━━━━\u001b[0m\u001b[37m\u001b[0m \u001b[1m0s\u001b[0m 825us/step - accuracy: 0.8667 - loss: 0.3693 - val_accuracy: 0.9601 - val_loss: 0.1919\n",
      "Epoch 120/1000\n",
      "\u001b[1m 1/36\u001b[0m \u001b[37m━━━━━━━━━━━━━━━━━━━━\u001b[0m \u001b[1m0s\u001b[0m 8ms/step - accuracy: 0.8125 - loss: 0.4873\n",
      "Epoch 120: saving model to Model/keypoint_classifier/keypoint_classifier.keras\n",
      "\u001b[1m36/36\u001b[0m \u001b[32m━━━━━━━━━━━━━━━━━━━━\u001b[0m\u001b[37m\u001b[0m \u001b[1m0s\u001b[0m 823us/step - accuracy: 0.8476 - loss: 0.4293 - val_accuracy: 0.9615 - val_loss: 0.1987\n",
      "Epoch 121/1000\n",
      "\u001b[1m 1/36\u001b[0m \u001b[37m━━━━━━━━━━━━━━━━━━━━\u001b[0m \u001b[1m0s\u001b[0m 7ms/step - accuracy: 0.8672 - loss: 0.3868\n",
      "Epoch 121: saving model to Model/keypoint_classifier/keypoint_classifier.keras\n",
      "\u001b[1m36/36\u001b[0m \u001b[32m━━━━━━━━━━━━━━━━━━━━\u001b[0m\u001b[37m\u001b[0m \u001b[1m0s\u001b[0m 818us/step - accuracy: 0.8685 - loss: 0.3774 - val_accuracy: 0.9588 - val_loss: 0.1943\n",
      "Epoch 122/1000\n",
      "\u001b[1m 1/36\u001b[0m \u001b[37m━━━━━━━━━━━━━━━━━━━━\u001b[0m \u001b[1m0s\u001b[0m 7ms/step - accuracy: 0.8984 - loss: 0.2872\n",
      "Epoch 122: saving model to Model/keypoint_classifier/keypoint_classifier.keras\n",
      "\u001b[1m36/36\u001b[0m \u001b[32m━━━━━━━━━━━━━━━━━━━━\u001b[0m\u001b[37m\u001b[0m \u001b[1m0s\u001b[0m 794us/step - accuracy: 0.8676 - loss: 0.3919 - val_accuracy: 0.9601 - val_loss: 0.2000\n",
      "Epoch 123/1000\n",
      "\u001b[1m 1/36\u001b[0m \u001b[37m━━━━━━━━━━━━━━━━━━━━\u001b[0m \u001b[1m0s\u001b[0m 7ms/step - accuracy: 0.9062 - loss: 0.2487\n",
      "Epoch 123: saving model to Model/keypoint_classifier/keypoint_classifier.keras\n",
      "\u001b[1m36/36\u001b[0m \u001b[32m━━━━━━━━━━━━━━━━━━━━\u001b[0m\u001b[37m\u001b[0m \u001b[1m0s\u001b[0m 753us/step - accuracy: 0.8793 - loss: 0.3581 - val_accuracy: 0.9595 - val_loss: 0.1933\n",
      "Epoch 124/1000\n",
      "\u001b[1m 1/36\u001b[0m \u001b[37m━━━━━━━━━━━━━━━━━━━━\u001b[0m \u001b[1m0s\u001b[0m 7ms/step - accuracy: 0.8047 - loss: 0.5356\n",
      "Epoch 124: saving model to Model/keypoint_classifier/keypoint_classifier.keras\n",
      "\u001b[1m36/36\u001b[0m \u001b[32m━━━━━━━━━━━━━━━━━━━━\u001b[0m\u001b[37m\u001b[0m \u001b[1m0s\u001b[0m 748us/step - accuracy: 0.8581 - loss: 0.4009 - val_accuracy: 0.9588 - val_loss: 0.2002\n",
      "Epoch 125/1000\n",
      "\u001b[1m 1/36\u001b[0m \u001b[37m━━━━━━━━━━━━━━━━━━━━\u001b[0m \u001b[1m0s\u001b[0m 7ms/step - accuracy: 0.8828 - loss: 0.3891\n",
      "Epoch 125: saving model to Model/keypoint_classifier/keypoint_classifier.keras\n",
      "\u001b[1m36/36\u001b[0m \u001b[32m━━━━━━━━━━━━━━━━━━━━\u001b[0m\u001b[37m\u001b[0m \u001b[1m0s\u001b[0m 770us/step - accuracy: 0.8707 - loss: 0.3774 - val_accuracy: 0.9581 - val_loss: 0.1938\n",
      "Epoch 126/1000\n",
      "\u001b[1m 1/36\u001b[0m \u001b[37m━━━━━━━━━━━━━━━━━━━━\u001b[0m \u001b[1m0s\u001b[0m 7ms/step - accuracy: 0.8516 - loss: 0.3953\n",
      "Epoch 126: saving model to Model/keypoint_classifier/keypoint_classifier.keras\n",
      "\u001b[1m36/36\u001b[0m \u001b[32m━━━━━━━━━━━━━━━━━━━━\u001b[0m\u001b[37m\u001b[0m \u001b[1m0s\u001b[0m 800us/step - accuracy: 0.8670 - loss: 0.3915 - val_accuracy: 0.9588 - val_loss: 0.1931\n",
      "Epoch 127/1000\n",
      "\u001b[1m 1/36\u001b[0m \u001b[37m━━━━━━━━━━━━━━━━━━━━\u001b[0m \u001b[1m0s\u001b[0m 7ms/step - accuracy: 0.8750 - loss: 0.4482\n",
      "Epoch 127: saving model to Model/keypoint_classifier/keypoint_classifier.keras\n",
      "\u001b[1m36/36\u001b[0m \u001b[32m━━━━━━━━━━━━━━━━━━━━\u001b[0m\u001b[37m\u001b[0m \u001b[1m0s\u001b[0m 779us/step - accuracy: 0.8704 - loss: 0.3884 - val_accuracy: 0.9608 - val_loss: 0.1911\n",
      "Epoch 128/1000\n",
      "\u001b[1m 1/36\u001b[0m \u001b[37m━━━━━━━━━━━━━━━━━━━━\u001b[0m \u001b[1m0s\u001b[0m 7ms/step - accuracy: 0.8281 - loss: 0.3601\n",
      "Epoch 128: saving model to Model/keypoint_classifier/keypoint_classifier.keras\n",
      "\u001b[1m36/36\u001b[0m \u001b[32m━━━━━━━━━━━━━━━━━━━━\u001b[0m\u001b[37m\u001b[0m \u001b[1m0s\u001b[0m 754us/step - accuracy: 0.8619 - loss: 0.3872 - val_accuracy: 0.9595 - val_loss: 0.1981\n",
      "Epoch 129/1000\n",
      "\u001b[1m 1/36\u001b[0m \u001b[37m━━━━━━━━━━━━━━━━━━━━\u001b[0m \u001b[1m0s\u001b[0m 7ms/step - accuracy: 0.8594 - loss: 0.3814\n",
      "Epoch 129: saving model to Model/keypoint_classifier/keypoint_classifier.keras\n",
      "\u001b[1m36/36\u001b[0m \u001b[32m━━━━━━━━━━━━━━━━━━━━\u001b[0m\u001b[37m\u001b[0m \u001b[1m0s\u001b[0m 746us/step - accuracy: 0.8596 - loss: 0.3904 - val_accuracy: 0.9588 - val_loss: 0.1976\n",
      "Epoch 130/1000\n",
      "\u001b[1m 1/36\u001b[0m \u001b[37m━━━━━━━━━━━━━━━━━━━━\u001b[0m \u001b[1m0s\u001b[0m 7ms/step - accuracy: 0.8828 - loss: 0.2797\n",
      "Epoch 130: saving model to Model/keypoint_classifier/keypoint_classifier.keras\n",
      "\u001b[1m36/36\u001b[0m \u001b[32m━━━━━━━━━━━━━━━━━━━━\u001b[0m\u001b[37m\u001b[0m \u001b[1m0s\u001b[0m 759us/step - accuracy: 0.8744 - loss: 0.3583 - val_accuracy: 0.9601 - val_loss: 0.1896\n",
      "Epoch 131/1000\n",
      "\u001b[1m 1/36\u001b[0m \u001b[37m━━━━━━━━━━━━━━━━━━━━\u001b[0m \u001b[1m0s\u001b[0m 7ms/step - accuracy: 0.8750 - loss: 0.3757\n",
      "Epoch 131: saving model to Model/keypoint_classifier/keypoint_classifier.keras\n",
      "\u001b[1m36/36\u001b[0m \u001b[32m━━━━━━━━━━━━━━━━━━━━\u001b[0m\u001b[37m\u001b[0m \u001b[1m0s\u001b[0m 761us/step - accuracy: 0.8729 - loss: 0.3688 - val_accuracy: 0.9601 - val_loss: 0.1866\n",
      "Epoch 132/1000\n",
      "\u001b[1m 1/36\u001b[0m \u001b[37m━━━━━━━━━━━━━━━━━━━━\u001b[0m \u001b[1m0s\u001b[0m 7ms/step - accuracy: 0.8828 - loss: 0.3084\n",
      "Epoch 132: saving model to Model/keypoint_classifier/keypoint_classifier.keras\n",
      "\u001b[1m36/36\u001b[0m \u001b[32m━━━━━━━━━━━━━━━━━━━━\u001b[0m\u001b[37m\u001b[0m \u001b[1m0s\u001b[0m 743us/step - accuracy: 0.8643 - loss: 0.3817 - val_accuracy: 0.9595 - val_loss: 0.1868\n",
      "Epoch 133/1000\n",
      "\u001b[1m 1/36\u001b[0m \u001b[37m━━━━━━━━━━━━━━━━━━━━\u001b[0m \u001b[1m0s\u001b[0m 7ms/step - accuracy: 0.8828 - loss: 0.3430\n",
      "Epoch 133: saving model to Model/keypoint_classifier/keypoint_classifier.keras\n",
      "\u001b[1m36/36\u001b[0m \u001b[32m━━━━━━━━━━━━━━━━━━━━\u001b[0m\u001b[37m\u001b[0m \u001b[1m0s\u001b[0m 764us/step - accuracy: 0.8751 - loss: 0.3922 - val_accuracy: 0.9601 - val_loss: 0.1900\n",
      "Epoch 134/1000\n",
      "\u001b[1m 1/36\u001b[0m \u001b[37m━━━━━━━━━━━━━━━━━━━━\u001b[0m \u001b[1m0s\u001b[0m 7ms/step - accuracy: 0.8594 - loss: 0.3935\n",
      "Epoch 134: saving model to Model/keypoint_classifier/keypoint_classifier.keras\n",
      "\u001b[1m36/36\u001b[0m \u001b[32m━━━━━━━━━━━━━━━━━━━━\u001b[0m\u001b[37m\u001b[0m \u001b[1m0s\u001b[0m 763us/step - accuracy: 0.8677 - loss: 0.3757 - val_accuracy: 0.9608 - val_loss: 0.1899\n",
      "Epoch 135/1000\n",
      "\u001b[1m 1/36\u001b[0m \u001b[37m━━━━━━━━━━━━━━━━━━━━\u001b[0m \u001b[1m0s\u001b[0m 7ms/step - accuracy: 0.8672 - loss: 0.4251\n",
      "Epoch 135: saving model to Model/keypoint_classifier/keypoint_classifier.keras\n",
      "\u001b[1m36/36\u001b[0m \u001b[32m━━━━━━━━━━━━━━━━━━━━\u001b[0m\u001b[37m\u001b[0m \u001b[1m0s\u001b[0m 752us/step - accuracy: 0.8742 - loss: 0.3689 - val_accuracy: 0.9621 - val_loss: 0.1885\n",
      "Epoch 136/1000\n",
      "\u001b[1m 1/36\u001b[0m \u001b[37m━━━━━━━━━━━━━━━━━━━━\u001b[0m \u001b[1m0s\u001b[0m 7ms/step - accuracy: 0.9453 - loss: 0.2163\n",
      "Epoch 136: saving model to Model/keypoint_classifier/keypoint_classifier.keras\n",
      "\u001b[1m36/36\u001b[0m \u001b[32m━━━━━━━━━━━━━━━━━━━━\u001b[0m\u001b[37m\u001b[0m \u001b[1m0s\u001b[0m 755us/step - accuracy: 0.8837 - loss: 0.3512 - val_accuracy: 0.9648 - val_loss: 0.1832\n",
      "Epoch 137/1000\n",
      "\u001b[1m 1/36\u001b[0m \u001b[37m━━━━━━━━━━━━━━━━━━━━\u001b[0m \u001b[1m0s\u001b[0m 7ms/step - accuracy: 0.9375 - loss: 0.3053\n",
      "Epoch 137: saving model to Model/keypoint_classifier/keypoint_classifier.keras\n",
      "\u001b[1m36/36\u001b[0m \u001b[32m━━━━━━━━━━━━━━━━━━━━\u001b[0m\u001b[37m\u001b[0m \u001b[1m0s\u001b[0m 766us/step - accuracy: 0.8806 - loss: 0.3590 - val_accuracy: 0.9635 - val_loss: 0.1839\n",
      "Epoch 138/1000\n",
      "\u001b[1m 1/36\u001b[0m \u001b[37m━━━━━━━━━━━━━━━━━━━━\u001b[0m \u001b[1m0s\u001b[0m 7ms/step - accuracy: 0.8516 - loss: 0.4391\n",
      "Epoch 138: saving model to Model/keypoint_classifier/keypoint_classifier.keras\n",
      "\u001b[1m36/36\u001b[0m \u001b[32m━━━━━━━━━━━━━━━━━━━━\u001b[0m\u001b[37m\u001b[0m \u001b[1m0s\u001b[0m 755us/step - accuracy: 0.8671 - loss: 0.3957 - val_accuracy: 0.9615 - val_loss: 0.1891\n",
      "Epoch 139/1000\n",
      "\u001b[1m 1/36\u001b[0m \u001b[37m━━━━━━━━━━━━━━━━━━━━\u001b[0m \u001b[1m0s\u001b[0m 7ms/step - accuracy: 0.8906 - loss: 0.3204\n",
      "Epoch 139: saving model to Model/keypoint_classifier/keypoint_classifier.keras\n",
      "\u001b[1m36/36\u001b[0m \u001b[32m━━━━━━━━━━━━━━━━━━━━\u001b[0m\u001b[37m\u001b[0m \u001b[1m0s\u001b[0m 758us/step - accuracy: 0.8743 - loss: 0.3759 - val_accuracy: 0.9608 - val_loss: 0.1893\n",
      "Epoch 140/1000\n",
      "\u001b[1m 1/36\u001b[0m \u001b[37m━━━━━━━━━━━━━━━━━━━━\u001b[0m \u001b[1m0s\u001b[0m 7ms/step - accuracy: 0.8750 - loss: 0.4107\n",
      "Epoch 140: saving model to Model/keypoint_classifier/keypoint_classifier.keras\n",
      "\u001b[1m36/36\u001b[0m \u001b[32m━━━━━━━━━━━━━━━━━━━━\u001b[0m\u001b[37m\u001b[0m \u001b[1m0s\u001b[0m 762us/step - accuracy: 0.8726 - loss: 0.3785 - val_accuracy: 0.9628 - val_loss: 0.1857\n",
      "Epoch 141/1000\n",
      "\u001b[1m 1/36\u001b[0m \u001b[37m━━━━━━━━━━━━━━━━━━━━\u001b[0m \u001b[1m0s\u001b[0m 7ms/step - accuracy: 0.8672 - loss: 0.3468\n",
      "Epoch 141: saving model to Model/keypoint_classifier/keypoint_classifier.keras\n",
      "\u001b[1m36/36\u001b[0m \u001b[32m━━━━━━━━━━━━━━━━━━━━\u001b[0m\u001b[37m\u001b[0m \u001b[1m0s\u001b[0m 743us/step - accuracy: 0.8811 - loss: 0.3503 - val_accuracy: 0.9641 - val_loss: 0.1864\n",
      "Epoch 142/1000\n",
      "\u001b[1m 1/36\u001b[0m \u001b[37m━━━━━━━━━━━━━━━━━━━━\u001b[0m \u001b[1m0s\u001b[0m 7ms/step - accuracy: 0.8672 - loss: 0.4129\n",
      "Epoch 142: saving model to Model/keypoint_classifier/keypoint_classifier.keras\n",
      "\u001b[1m36/36\u001b[0m \u001b[32m━━━━━━━━━━━━━━━━━━━━\u001b[0m\u001b[37m\u001b[0m \u001b[1m0s\u001b[0m 733us/step - accuracy: 0.8771 - loss: 0.3623 - val_accuracy: 0.9621 - val_loss: 0.1856\n",
      "Epoch 143/1000\n",
      "\u001b[1m 1/36\u001b[0m \u001b[37m━━━━━━━━━━━━━━━━━━━━\u001b[0m \u001b[1m0s\u001b[0m 7ms/step - accuracy: 0.8516 - loss: 0.4240\n",
      "Epoch 143: saving model to Model/keypoint_classifier/keypoint_classifier.keras\n",
      "\u001b[1m36/36\u001b[0m \u001b[32m━━━━━━━━━━━━━━━━━━━━\u001b[0m\u001b[37m\u001b[0m \u001b[1m0s\u001b[0m 766us/step - accuracy: 0.8738 - loss: 0.3785 - val_accuracy: 0.9635 - val_loss: 0.1846\n",
      "Epoch 144/1000\n",
      "\u001b[1m 1/36\u001b[0m \u001b[37m━━━━━━━━━━━━━━━━━━━━\u001b[0m \u001b[1m0s\u001b[0m 7ms/step - accuracy: 0.8906 - loss: 0.3567\n",
      "Epoch 144: saving model to Model/keypoint_classifier/keypoint_classifier.keras\n",
      "\u001b[1m36/36\u001b[0m \u001b[32m━━━━━━━━━━━━━━━━━━━━\u001b[0m\u001b[37m\u001b[0m \u001b[1m0s\u001b[0m 744us/step - accuracy: 0.8681 - loss: 0.3955 - val_accuracy: 0.9635 - val_loss: 0.1870\n",
      "Epoch 145/1000\n",
      "\u001b[1m 1/36\u001b[0m \u001b[37m━━━━━━━━━━━━━━━━━━━━\u001b[0m \u001b[1m0s\u001b[0m 7ms/step - accuracy: 0.8359 - loss: 0.4575\n",
      "Epoch 145: saving model to Model/keypoint_classifier/keypoint_classifier.keras\n",
      "\u001b[1m36/36\u001b[0m \u001b[32m━━━━━━━━━━━━━━━━━━━━\u001b[0m\u001b[37m\u001b[0m \u001b[1m0s\u001b[0m 766us/step - accuracy: 0.8686 - loss: 0.3907 - val_accuracy: 0.9601 - val_loss: 0.1836\n",
      "Epoch 146/1000\n",
      "\u001b[1m 1/36\u001b[0m \u001b[37m━━━━━━━━━━━━━━━━━━━━\u001b[0m \u001b[1m0s\u001b[0m 6ms/step - accuracy: 0.8438 - loss: 0.4315\n",
      "Epoch 146: saving model to Model/keypoint_classifier/keypoint_classifier.keras\n",
      "\u001b[1m36/36\u001b[0m \u001b[32m━━━━━━━━━━━━━━━━━━━━\u001b[0m\u001b[37m\u001b[0m \u001b[1m0s\u001b[0m 769us/step - accuracy: 0.8709 - loss: 0.3616 - val_accuracy: 0.9641 - val_loss: 0.1888\n",
      "Epoch 147/1000\n",
      "\u001b[1m 1/36\u001b[0m \u001b[37m━━━━━━━━━━━━━━━━━━━━\u001b[0m \u001b[1m0s\u001b[0m 7ms/step - accuracy: 0.8984 - loss: 0.3476\n",
      "Epoch 147: saving model to Model/keypoint_classifier/keypoint_classifier.keras\n",
      "\u001b[1m36/36\u001b[0m \u001b[32m━━━━━━━━━━━━━━━━━━━━\u001b[0m\u001b[37m\u001b[0m \u001b[1m0s\u001b[0m 753us/step - accuracy: 0.8899 - loss: 0.3498 - val_accuracy: 0.9595 - val_loss: 0.1843\n",
      "Epoch 148/1000\n",
      "\u001b[1m 1/36\u001b[0m \u001b[37m━━━━━━━━━━━━━━━━━━━━\u001b[0m \u001b[1m0s\u001b[0m 7ms/step - accuracy: 0.8359 - loss: 0.4507\n",
      "Epoch 148: saving model to Model/keypoint_classifier/keypoint_classifier.keras\n",
      "\u001b[1m36/36\u001b[0m \u001b[32m━━━━━━━━━━━━━━━━━━━━\u001b[0m\u001b[37m\u001b[0m \u001b[1m0s\u001b[0m 746us/step - accuracy: 0.8650 - loss: 0.3924 - val_accuracy: 0.9641 - val_loss: 0.1806\n",
      "Epoch 149/1000\n",
      "\u001b[1m 1/36\u001b[0m \u001b[37m━━━━━━━━━━━━━━━━━━━━\u001b[0m \u001b[1m0s\u001b[0m 7ms/step - accuracy: 0.9141 - loss: 0.4703\n",
      "Epoch 149: saving model to Model/keypoint_classifier/keypoint_classifier.keras\n",
      "\u001b[1m36/36\u001b[0m \u001b[32m━━━━━━━━━━━━━━━━━━━━\u001b[0m\u001b[37m\u001b[0m \u001b[1m0s\u001b[0m 767us/step - accuracy: 0.8691 - loss: 0.3824 - val_accuracy: 0.9635 - val_loss: 0.1808\n",
      "Epoch 150/1000\n",
      "\u001b[1m 1/36\u001b[0m \u001b[37m━━━━━━━━━━━━━━━━━━━━\u001b[0m \u001b[1m0s\u001b[0m 7ms/step - accuracy: 0.8906 - loss: 0.3376\n",
      "Epoch 150: saving model to Model/keypoint_classifier/keypoint_classifier.keras\n",
      "\u001b[1m36/36\u001b[0m \u001b[32m━━━━━━━━━━━━━━━━━━━━\u001b[0m\u001b[37m\u001b[0m \u001b[1m0s\u001b[0m 764us/step - accuracy: 0.8668 - loss: 0.4096 - val_accuracy: 0.9628 - val_loss: 0.1818\n",
      "Epoch 151/1000\n",
      "\u001b[1m 1/36\u001b[0m \u001b[37m━━━━━━━━━━━━━━━━━━━━\u001b[0m \u001b[1m0s\u001b[0m 7ms/step - accuracy: 0.8438 - loss: 0.5143\n",
      "Epoch 151: saving model to Model/keypoint_classifier/keypoint_classifier.keras\n",
      "\u001b[1m36/36\u001b[0m \u001b[32m━━━━━━━━━━━━━━━━━━━━\u001b[0m\u001b[37m\u001b[0m \u001b[1m0s\u001b[0m 759us/step - accuracy: 0.8688 - loss: 0.3866 - val_accuracy: 0.9648 - val_loss: 0.1809\n",
      "Epoch 152/1000\n",
      "\u001b[1m 1/36\u001b[0m \u001b[37m━━━━━━━━━━━━━━━━━━━━\u001b[0m \u001b[1m0s\u001b[0m 7ms/step - accuracy: 0.8906 - loss: 0.3160\n",
      "Epoch 152: saving model to Model/keypoint_classifier/keypoint_classifier.keras\n",
      "\u001b[1m36/36\u001b[0m \u001b[32m━━━━━━━━━━━━━━━━━━━━\u001b[0m\u001b[37m\u001b[0m \u001b[1m0s\u001b[0m 769us/step - accuracy: 0.8707 - loss: 0.3689 - val_accuracy: 0.9641 - val_loss: 0.1788\n",
      "Epoch 153/1000\n",
      "\u001b[1m 1/36\u001b[0m \u001b[37m━━━━━━━━━━━━━━━━━━━━\u001b[0m \u001b[1m0s\u001b[0m 7ms/step - accuracy: 0.9219 - loss: 0.2541\n",
      "Epoch 153: saving model to Model/keypoint_classifier/keypoint_classifier.keras\n",
      "\u001b[1m36/36\u001b[0m \u001b[32m━━━━━━━━━━━━━━━━━━━━\u001b[0m\u001b[37m\u001b[0m \u001b[1m0s\u001b[0m 797us/step - accuracy: 0.8838 - loss: 0.3633 - val_accuracy: 0.9641 - val_loss: 0.1793\n",
      "Epoch 154/1000\n",
      "\u001b[1m 1/36\u001b[0m \u001b[37m━━━━━━━━━━━━━━━━━━━━\u001b[0m \u001b[1m0s\u001b[0m 7ms/step - accuracy: 0.9219 - loss: 0.3636\n",
      "Epoch 154: saving model to Model/keypoint_classifier/keypoint_classifier.keras\n",
      "\u001b[1m36/36\u001b[0m \u001b[32m━━━━━━━━━━━━━━━━━━━━\u001b[0m\u001b[37m\u001b[0m \u001b[1m0s\u001b[0m 833us/step - accuracy: 0.8752 - loss: 0.3906 - val_accuracy: 0.9628 - val_loss: 0.1765\n",
      "Epoch 155/1000\n",
      "\u001b[1m 1/36\u001b[0m \u001b[37m━━━━━━━━━━━━━━━━━━━━\u001b[0m \u001b[1m0s\u001b[0m 7ms/step - accuracy: 0.8984 - loss: 0.2416\n",
      "Epoch 155: saving model to Model/keypoint_classifier/keypoint_classifier.keras\n",
      "\u001b[1m36/36\u001b[0m \u001b[32m━━━━━━━━━━━━━━━━━━━━\u001b[0m\u001b[37m\u001b[0m \u001b[1m0s\u001b[0m 802us/step - accuracy: 0.8762 - loss: 0.3574 - val_accuracy: 0.9628 - val_loss: 0.1760\n",
      "Epoch 156/1000\n",
      "\u001b[1m 1/36\u001b[0m \u001b[37m━━━━━━━━━━━━━━━━━━━━\u001b[0m \u001b[1m0s\u001b[0m 7ms/step - accuracy: 0.8984 - loss: 0.3589\n",
      "Epoch 156: saving model to Model/keypoint_classifier/keypoint_classifier.keras\n",
      "\u001b[1m36/36\u001b[0m \u001b[32m━━━━━━━━━━━━━━━━━━━━\u001b[0m\u001b[37m\u001b[0m \u001b[1m0s\u001b[0m 809us/step - accuracy: 0.8718 - loss: 0.3713 - val_accuracy: 0.9641 - val_loss: 0.1764\n",
      "Epoch 157/1000\n",
      "\u001b[1m 1/36\u001b[0m \u001b[37m━━━━━━━━━━━━━━━━━━━━\u001b[0m \u001b[1m0s\u001b[0m 7ms/step - accuracy: 0.8672 - loss: 0.3702\n",
      "Epoch 157: saving model to Model/keypoint_classifier/keypoint_classifier.keras\n",
      "\u001b[1m36/36\u001b[0m \u001b[32m━━━━━━━━━━━━━━━━━━━━\u001b[0m\u001b[37m\u001b[0m \u001b[1m0s\u001b[0m 815us/step - accuracy: 0.8734 - loss: 0.3917 - val_accuracy: 0.9635 - val_loss: 0.1775\n",
      "Epoch 158/1000\n",
      "\u001b[1m 1/36\u001b[0m \u001b[37m━━━━━━━━━━━━━━━━━━━━\u001b[0m \u001b[1m0s\u001b[0m 7ms/step - accuracy: 0.8516 - loss: 0.4294\n",
      "Epoch 158: saving model to Model/keypoint_classifier/keypoint_classifier.keras\n",
      "\u001b[1m36/36\u001b[0m \u001b[32m━━━━━━━━━━━━━━━━━━━━\u001b[0m\u001b[37m\u001b[0m \u001b[1m0s\u001b[0m 834us/step - accuracy: 0.8670 - loss: 0.3838 - val_accuracy: 0.9635 - val_loss: 0.1840\n",
      "Epoch 159/1000\n",
      "\u001b[1m 1/36\u001b[0m \u001b[37m━━━━━━━━━━━━━━━━━━━━\u001b[0m \u001b[1m0s\u001b[0m 7ms/step - accuracy: 0.8047 - loss: 0.5710\n",
      "Epoch 159: saving model to Model/keypoint_classifier/keypoint_classifier.keras\n",
      "\u001b[1m36/36\u001b[0m \u001b[32m━━━━━━━━━━━━━━━━━━━━\u001b[0m\u001b[37m\u001b[0m \u001b[1m0s\u001b[0m 815us/step - accuracy: 0.8661 - loss: 0.3902 - val_accuracy: 0.9641 - val_loss: 0.1808\n",
      "Epoch 160/1000\n",
      "\u001b[1m 1/36\u001b[0m \u001b[37m━━━━━━━━━━━━━━━━━━━━\u001b[0m \u001b[1m0s\u001b[0m 7ms/step - accuracy: 0.8438 - loss: 0.3259\n",
      "Epoch 160: saving model to Model/keypoint_classifier/keypoint_classifier.keras\n",
      "\u001b[1m36/36\u001b[0m \u001b[32m━━━━━━━━━━━━━━━━━━━━\u001b[0m\u001b[37m\u001b[0m \u001b[1m0s\u001b[0m 828us/step - accuracy: 0.8728 - loss: 0.3610 - val_accuracy: 0.9654 - val_loss: 0.1778\n",
      "Epoch 161/1000\n",
      "\u001b[1m 1/36\u001b[0m \u001b[37m━━━━━━━━━━━━━━━━━━━━\u001b[0m \u001b[1m0s\u001b[0m 8ms/step - accuracy: 0.8906 - loss: 0.2692\n",
      "Epoch 161: saving model to Model/keypoint_classifier/keypoint_classifier.keras\n",
      "\u001b[1m36/36\u001b[0m \u001b[32m━━━━━━━━━━━━━━━━━━━━\u001b[0m\u001b[37m\u001b[0m \u001b[1m0s\u001b[0m 804us/step - accuracy: 0.8723 - loss: 0.3551 - val_accuracy: 0.9648 - val_loss: 0.1806\n",
      "Epoch 162/1000\n",
      "\u001b[1m 1/36\u001b[0m \u001b[37m━━━━━━━━━━━━━━━━━━━━\u001b[0m \u001b[1m0s\u001b[0m 7ms/step - accuracy: 0.9219 - loss: 0.2809\n",
      "Epoch 162: saving model to Model/keypoint_classifier/keypoint_classifier.keras\n",
      "\u001b[1m36/36\u001b[0m \u001b[32m━━━━━━━━━━━━━━━━━━━━\u001b[0m\u001b[37m\u001b[0m \u001b[1m0s\u001b[0m 773us/step - accuracy: 0.8806 - loss: 0.3650 - val_accuracy: 0.9641 - val_loss: 0.1773\n",
      "Epoch 163/1000\n",
      "\u001b[1m 1/36\u001b[0m \u001b[37m━━━━━━━━━━━━━━━━━━━━\u001b[0m \u001b[1m0s\u001b[0m 7ms/step - accuracy: 0.8672 - loss: 0.3596\n",
      "Epoch 163: saving model to Model/keypoint_classifier/keypoint_classifier.keras\n",
      "\u001b[1m36/36\u001b[0m \u001b[32m━━━━━━━━━━━━━━━━━━━━\u001b[0m\u001b[37m\u001b[0m \u001b[1m0s\u001b[0m 774us/step - accuracy: 0.8881 - loss: 0.3405 - val_accuracy: 0.9648 - val_loss: 0.1735\n",
      "Epoch 164/1000\n",
      "\u001b[1m 1/36\u001b[0m \u001b[37m━━━━━━━━━━━━━━━━━━━━\u001b[0m \u001b[1m0s\u001b[0m 7ms/step - accuracy: 0.8984 - loss: 0.4336\n",
      "Epoch 164: saving model to Model/keypoint_classifier/keypoint_classifier.keras\n",
      "\u001b[1m36/36\u001b[0m \u001b[32m━━━━━━━━━━━━━━━━━━━━\u001b[0m\u001b[37m\u001b[0m \u001b[1m0s\u001b[0m 811us/step - accuracy: 0.8858 - loss: 0.3615 - val_accuracy: 0.9641 - val_loss: 0.1729\n",
      "Epoch 165/1000\n",
      "\u001b[1m 1/36\u001b[0m \u001b[37m━━━━━━━━━━━━━━━━━━━━\u001b[0m \u001b[1m0s\u001b[0m 7ms/step - accuracy: 0.8516 - loss: 0.4051\n",
      "Epoch 165: saving model to Model/keypoint_classifier/keypoint_classifier.keras\n",
      "\u001b[1m36/36\u001b[0m \u001b[32m━━━━━━━━━━━━━━━━━━━━\u001b[0m\u001b[37m\u001b[0m \u001b[1m0s\u001b[0m 793us/step - accuracy: 0.8687 - loss: 0.3719 - val_accuracy: 0.9648 - val_loss: 0.1724\n",
      "Epoch 166/1000\n",
      "\u001b[1m 1/36\u001b[0m \u001b[37m━━━━━━━━━━━━━━━━━━━━\u001b[0m \u001b[1m0s\u001b[0m 7ms/step - accuracy: 0.9297 - loss: 0.2582\n",
      "Epoch 166: saving model to Model/keypoint_classifier/keypoint_classifier.keras\n",
      "\u001b[1m36/36\u001b[0m \u001b[32m━━━━━━━━━━━━━━━━━━━━\u001b[0m\u001b[37m\u001b[0m \u001b[1m0s\u001b[0m 795us/step - accuracy: 0.8794 - loss: 0.3630 - val_accuracy: 0.9654 - val_loss: 0.1780\n",
      "Epoch 167/1000\n",
      "\u001b[1m 1/36\u001b[0m \u001b[37m━━━━━━━━━━━━━━━━━━━━\u001b[0m \u001b[1m0s\u001b[0m 7ms/step - accuracy: 0.8516 - loss: 0.4085\n",
      "Epoch 167: saving model to Model/keypoint_classifier/keypoint_classifier.keras\n",
      "\u001b[1m36/36\u001b[0m \u001b[32m━━━━━━━━━━━━━━━━━━━━\u001b[0m\u001b[37m\u001b[0m \u001b[1m0s\u001b[0m 800us/step - accuracy: 0.8761 - loss: 0.3615 - val_accuracy: 0.9648 - val_loss: 0.1709\n",
      "Epoch 168/1000\n",
      "\u001b[1m 1/36\u001b[0m \u001b[37m━━━━━━━━━━━━━━━━━━━━\u001b[0m \u001b[1m0s\u001b[0m 7ms/step - accuracy: 0.8516 - loss: 0.3745\n",
      "Epoch 168: saving model to Model/keypoint_classifier/keypoint_classifier.keras\n",
      "\u001b[1m36/36\u001b[0m \u001b[32m━━━━━━━━━━━━━━━━━━━━\u001b[0m\u001b[37m\u001b[0m \u001b[1m0s\u001b[0m 792us/step - accuracy: 0.8703 - loss: 0.3726 - val_accuracy: 0.9628 - val_loss: 0.1758\n",
      "Epoch 169/1000\n",
      "\u001b[1m 1/36\u001b[0m \u001b[37m━━━━━━━━━━━━━━━━━━━━\u001b[0m \u001b[1m0s\u001b[0m 7ms/step - accuracy: 0.8828 - loss: 0.3386\n",
      "Epoch 169: saving model to Model/keypoint_classifier/keypoint_classifier.keras\n",
      "\u001b[1m36/36\u001b[0m \u001b[32m━━━━━━━━━━━━━━━━━━━━\u001b[0m\u001b[37m\u001b[0m \u001b[1m0s\u001b[0m 789us/step - accuracy: 0.8724 - loss: 0.3649 - val_accuracy: 0.9648 - val_loss: 0.1737\n",
      "Epoch 170/1000\n",
      "\u001b[1m 1/36\u001b[0m \u001b[37m━━━━━━━━━━━━━━━━━━━━\u001b[0m \u001b[1m0s\u001b[0m 7ms/step - accuracy: 0.9062 - loss: 0.2653\n",
      "Epoch 170: saving model to Model/keypoint_classifier/keypoint_classifier.keras\n",
      "\u001b[1m36/36\u001b[0m \u001b[32m━━━━━━━━━━━━━━━━━━━━\u001b[0m\u001b[37m\u001b[0m \u001b[1m0s\u001b[0m 793us/step - accuracy: 0.8680 - loss: 0.3621 - val_accuracy: 0.9648 - val_loss: 0.1739\n",
      "Epoch 171/1000\n",
      "\u001b[1m 1/36\u001b[0m \u001b[37m━━━━━━━━━━━━━━━━━━━━\u001b[0m \u001b[1m0s\u001b[0m 7ms/step - accuracy: 0.9141 - loss: 0.2585\n",
      "Epoch 171: saving model to Model/keypoint_classifier/keypoint_classifier.keras\n",
      "\u001b[1m36/36\u001b[0m \u001b[32m━━━━━━━━━━━━━━━━━━━━\u001b[0m\u001b[37m\u001b[0m \u001b[1m0s\u001b[0m 798us/step - accuracy: 0.8833 - loss: 0.3503 - val_accuracy: 0.9621 - val_loss: 0.1715\n",
      "Epoch 172/1000\n",
      "\u001b[1m 1/36\u001b[0m \u001b[37m━━━━━━━━━━━━━━━━━━━━\u001b[0m \u001b[1m0s\u001b[0m 7ms/step - accuracy: 0.8672 - loss: 0.4072\n",
      "Epoch 172: saving model to Model/keypoint_classifier/keypoint_classifier.keras\n",
      "\u001b[1m36/36\u001b[0m \u001b[32m━━━━━━━━━━━━━━━━━━━━\u001b[0m\u001b[37m\u001b[0m \u001b[1m0s\u001b[0m 799us/step - accuracy: 0.8773 - loss: 0.3701 - val_accuracy: 0.9641 - val_loss: 0.1727\n",
      "Epoch 173/1000\n",
      "\u001b[1m 1/36\u001b[0m \u001b[37m━━━━━━━━━━━━━━━━━━━━\u001b[0m \u001b[1m0s\u001b[0m 7ms/step - accuracy: 0.8438 - loss: 0.3986\n",
      "Epoch 173: saving model to Model/keypoint_classifier/keypoint_classifier.keras\n",
      "\u001b[1m36/36\u001b[0m \u001b[32m━━━━━━━━━━━━━━━━━━━━\u001b[0m\u001b[37m\u001b[0m \u001b[1m0s\u001b[0m 777us/step - accuracy: 0.8662 - loss: 0.3755 - val_accuracy: 0.9648 - val_loss: 0.1709\n",
      "Epoch 174/1000\n",
      "\u001b[1m 1/36\u001b[0m \u001b[37m━━━━━━━━━━━━━━━━━━━━\u001b[0m \u001b[1m0s\u001b[0m 7ms/step - accuracy: 0.8594 - loss: 0.3587\n",
      "Epoch 174: saving model to Model/keypoint_classifier/keypoint_classifier.keras\n",
      "\u001b[1m36/36\u001b[0m \u001b[32m━━━━━━━━━━━━━━━━━━━━\u001b[0m\u001b[37m\u001b[0m \u001b[1m0s\u001b[0m 757us/step - accuracy: 0.8761 - loss: 0.3688 - val_accuracy: 0.9648 - val_loss: 0.1729\n",
      "Epoch 175/1000\n",
      "\u001b[1m 1/36\u001b[0m \u001b[37m━━━━━━━━━━━━━━━━━━━━\u001b[0m \u001b[1m0s\u001b[0m 7ms/step - accuracy: 0.8828 - loss: 0.3434\n",
      "Epoch 175: saving model to Model/keypoint_classifier/keypoint_classifier.keras\n",
      "\u001b[1m36/36\u001b[0m \u001b[32m━━━━━━━━━━━━━━━━━━━━\u001b[0m\u001b[37m\u001b[0m \u001b[1m0s\u001b[0m 755us/step - accuracy: 0.8833 - loss: 0.3493 - val_accuracy: 0.9668 - val_loss: 0.1704\n",
      "Epoch 176/1000\n",
      "\u001b[1m 1/36\u001b[0m \u001b[37m━━━━━━━━━━━━━━━━━━━━\u001b[0m \u001b[1m0s\u001b[0m 7ms/step - accuracy: 0.8359 - loss: 0.4732\n",
      "Epoch 176: saving model to Model/keypoint_classifier/keypoint_classifier.keras\n",
      "\u001b[1m36/36\u001b[0m \u001b[32m━━━━━━━━━━━━━━━━━━━━\u001b[0m\u001b[37m\u001b[0m \u001b[1m0s\u001b[0m 769us/step - accuracy: 0.8688 - loss: 0.3718 - val_accuracy: 0.9628 - val_loss: 0.1801\n",
      "Epoch 177/1000\n",
      "\u001b[1m 1/36\u001b[0m \u001b[37m━━━━━━━━━━━━━━━━━━━━\u001b[0m \u001b[1m0s\u001b[0m 7ms/step - accuracy: 0.8984 - loss: 0.3346\n",
      "Epoch 177: saving model to Model/keypoint_classifier/keypoint_classifier.keras\n",
      "\u001b[1m36/36\u001b[0m \u001b[32m━━━━━━━━━━━━━━━━━━━━\u001b[0m\u001b[37m\u001b[0m \u001b[1m0s\u001b[0m 757us/step - accuracy: 0.8827 - loss: 0.3565 - val_accuracy: 0.9635 - val_loss: 0.1748\n",
      "Epoch 178/1000\n",
      "\u001b[1m 1/36\u001b[0m \u001b[37m━━━━━━━━━━━━━━━━━━━━\u001b[0m \u001b[1m0s\u001b[0m 7ms/step - accuracy: 0.8906 - loss: 0.3206\n",
      "Epoch 178: saving model to Model/keypoint_classifier/keypoint_classifier.keras\n",
      "\u001b[1m36/36\u001b[0m \u001b[32m━━━━━━━━━━━━━━━━━━━━\u001b[0m\u001b[37m\u001b[0m \u001b[1m0s\u001b[0m 789us/step - accuracy: 0.8747 - loss: 0.3683 - val_accuracy: 0.9635 - val_loss: 0.1717\n",
      "Epoch 179/1000\n",
      "\u001b[1m 1/36\u001b[0m \u001b[37m━━━━━━━━━━━━━━━━━━━━\u001b[0m \u001b[1m0s\u001b[0m 7ms/step - accuracy: 0.8906 - loss: 0.3347\n",
      "Epoch 179: saving model to Model/keypoint_classifier/keypoint_classifier.keras\n",
      "\u001b[1m36/36\u001b[0m \u001b[32m━━━━━━━━━━━━━━━━━━━━\u001b[0m\u001b[37m\u001b[0m \u001b[1m0s\u001b[0m 791us/step - accuracy: 0.8738 - loss: 0.3590 - val_accuracy: 0.9648 - val_loss: 0.1684\n",
      "Epoch 180/1000\n",
      "\u001b[1m 1/36\u001b[0m \u001b[37m━━━━━━━━━━━━━━━━━━━━\u001b[0m \u001b[1m0s\u001b[0m 7ms/step - accuracy: 0.8281 - loss: 0.3820\n",
      "Epoch 180: saving model to Model/keypoint_classifier/keypoint_classifier.keras\n",
      "\u001b[1m36/36\u001b[0m \u001b[32m━━━━━━━━━━━━━━━━━━━━\u001b[0m\u001b[37m\u001b[0m \u001b[1m0s\u001b[0m 796us/step - accuracy: 0.8727 - loss: 0.3758 - val_accuracy: 0.9661 - val_loss: 0.1717\n",
      "Epoch 181/1000\n",
      "\u001b[1m 1/36\u001b[0m \u001b[37m━━━━━━━━━━━━━━━━━━━━\u001b[0m \u001b[1m0s\u001b[0m 7ms/step - accuracy: 0.9062 - loss: 0.3183\n",
      "Epoch 181: saving model to Model/keypoint_classifier/keypoint_classifier.keras\n",
      "\u001b[1m36/36\u001b[0m \u001b[32m━━━━━━━━━━━━━━━━━━━━\u001b[0m\u001b[37m\u001b[0m \u001b[1m0s\u001b[0m 789us/step - accuracy: 0.8722 - loss: 0.3820 - val_accuracy: 0.9681 - val_loss: 0.1694\n",
      "Epoch 182/1000\n",
      "\u001b[1m 1/36\u001b[0m \u001b[37m━━━━━━━━━━━━━━━━━━━━\u001b[0m \u001b[1m0s\u001b[0m 7ms/step - accuracy: 0.8594 - loss: 0.4332\n",
      "Epoch 182: saving model to Model/keypoint_classifier/keypoint_classifier.keras\n",
      "\u001b[1m36/36\u001b[0m \u001b[32m━━━━━━━━━━━━━━━━━━━━\u001b[0m\u001b[37m\u001b[0m \u001b[1m0s\u001b[0m 777us/step - accuracy: 0.8688 - loss: 0.3908 - val_accuracy: 0.9654 - val_loss: 0.1778\n",
      "Epoch 183/1000\n",
      "\u001b[1m 1/36\u001b[0m \u001b[37m━━━━━━━━━━━━━━━━━━━━\u001b[0m \u001b[1m0s\u001b[0m 7ms/step - accuracy: 0.8672 - loss: 0.4299\n",
      "Epoch 183: saving model to Model/keypoint_classifier/keypoint_classifier.keras\n",
      "\u001b[1m36/36\u001b[0m \u001b[32m━━━━━━━━━━━━━━━━━━━━\u001b[0m\u001b[37m\u001b[0m \u001b[1m0s\u001b[0m 772us/step - accuracy: 0.8687 - loss: 0.3898 - val_accuracy: 0.9681 - val_loss: 0.1712\n",
      "Epoch 184/1000\n",
      "\u001b[1m 1/36\u001b[0m \u001b[37m━━━━━━━━━━━━━━━━━━━━\u001b[0m \u001b[1m0s\u001b[0m 6ms/step - accuracy: 0.8125 - loss: 0.4641\n",
      "Epoch 184: saving model to Model/keypoint_classifier/keypoint_classifier.keras\n",
      "\u001b[1m36/36\u001b[0m \u001b[32m━━━━━━━━━━━━━━━━━━━━\u001b[0m\u001b[37m\u001b[0m \u001b[1m0s\u001b[0m 760us/step - accuracy: 0.8714 - loss: 0.3710 - val_accuracy: 0.9668 - val_loss: 0.1702\n",
      "Epoch 185/1000\n",
      "\u001b[1m 1/36\u001b[0m \u001b[37m━━━━━━━━━━━━━━━━━━━━\u001b[0m \u001b[1m0s\u001b[0m 6ms/step - accuracy: 0.8984 - loss: 0.3313\n",
      "Epoch 185: saving model to Model/keypoint_classifier/keypoint_classifier.keras\n",
      "\u001b[1m36/36\u001b[0m \u001b[32m━━━━━━━━━━━━━━━━━━━━\u001b[0m\u001b[37m\u001b[0m \u001b[1m0s\u001b[0m 757us/step - accuracy: 0.8736 - loss: 0.3697 - val_accuracy: 0.9641 - val_loss: 0.1748\n",
      "Epoch 186/1000\n",
      "\u001b[1m 1/36\u001b[0m \u001b[37m━━━━━━━━━━━━━━━━━━━━\u001b[0m \u001b[1m0s\u001b[0m 6ms/step - accuracy: 0.8281 - loss: 0.3960\n",
      "Epoch 186: saving model to Model/keypoint_classifier/keypoint_classifier.keras\n",
      "\u001b[1m36/36\u001b[0m \u001b[32m━━━━━━━━━━━━━━━━━━━━\u001b[0m\u001b[37m\u001b[0m \u001b[1m0s\u001b[0m 752us/step - accuracy: 0.8730 - loss: 0.3634 - val_accuracy: 0.9674 - val_loss: 0.1696\n",
      "Epoch 187/1000\n",
      "\u001b[1m 1/36\u001b[0m \u001b[37m━━━━━━━━━━━━━━━━━━━━\u001b[0m \u001b[1m0s\u001b[0m 7ms/step - accuracy: 0.8672 - loss: 0.3601\n",
      "Epoch 187: saving model to Model/keypoint_classifier/keypoint_classifier.keras\n",
      "\u001b[1m36/36\u001b[0m \u001b[32m━━━━━━━━━━━━━━━━━━━━\u001b[0m\u001b[37m\u001b[0m \u001b[1m0s\u001b[0m 753us/step - accuracy: 0.8754 - loss: 0.3559 - val_accuracy: 0.9681 - val_loss: 0.1715\n",
      "Epoch 188/1000\n",
      "\u001b[1m 1/36\u001b[0m \u001b[37m━━━━━━━━━━━━━━━━━━━━\u001b[0m \u001b[1m0s\u001b[0m 7ms/step - accuracy: 0.8672 - loss: 0.4045\n",
      "Epoch 188: saving model to Model/keypoint_classifier/keypoint_classifier.keras\n",
      "\u001b[1m36/36\u001b[0m \u001b[32m━━━━━━━━━━━━━━━━━━━━\u001b[0m\u001b[37m\u001b[0m \u001b[1m0s\u001b[0m 758us/step - accuracy: 0.8655 - loss: 0.3774 - val_accuracy: 0.9668 - val_loss: 0.1742\n",
      "Epoch 189/1000\n",
      "\u001b[1m 1/36\u001b[0m \u001b[37m━━━━━━━━━━━━━━━━━━━━\u001b[0m \u001b[1m0s\u001b[0m 7ms/step - accuracy: 0.8594 - loss: 0.4014\n",
      "Epoch 189: saving model to Model/keypoint_classifier/keypoint_classifier.keras\n",
      "\u001b[1m36/36\u001b[0m \u001b[32m━━━━━━━━━━━━━━━━━━━━\u001b[0m\u001b[37m\u001b[0m \u001b[1m0s\u001b[0m 757us/step - accuracy: 0.8693 - loss: 0.3687 - val_accuracy: 0.9661 - val_loss: 0.1719\n",
      "Epoch 190/1000\n",
      "\u001b[1m 1/36\u001b[0m \u001b[37m━━━━━━━━━━━━━━━━━━━━\u001b[0m \u001b[1m0s\u001b[0m 7ms/step - accuracy: 0.8438 - loss: 0.3992\n",
      "Epoch 190: saving model to Model/keypoint_classifier/keypoint_classifier.keras\n",
      "\u001b[1m36/36\u001b[0m \u001b[32m━━━━━━━━━━━━━━━━━━━━\u001b[0m\u001b[37m\u001b[0m \u001b[1m0s\u001b[0m 765us/step - accuracy: 0.8723 - loss: 0.3682 - val_accuracy: 0.9668 - val_loss: 0.1667\n",
      "Epoch 191/1000\n",
      "\u001b[1m 1/36\u001b[0m \u001b[37m━━━━━━━━━━━━━━━━━━━━\u001b[0m \u001b[1m0s\u001b[0m 7ms/step - accuracy: 0.8750 - loss: 0.4044\n",
      "Epoch 191: saving model to Model/keypoint_classifier/keypoint_classifier.keras\n",
      "\u001b[1m36/36\u001b[0m \u001b[32m━━━━━━━━━━━━━━━━━━━━\u001b[0m\u001b[37m\u001b[0m \u001b[1m0s\u001b[0m 754us/step - accuracy: 0.8798 - loss: 0.3592 - val_accuracy: 0.9668 - val_loss: 0.1726\n",
      "Epoch 192/1000\n",
      "\u001b[1m 1/36\u001b[0m \u001b[37m━━━━━━━━━━━━━━━━━━━━\u001b[0m \u001b[1m0s\u001b[0m 7ms/step - accuracy: 0.8828 - loss: 0.2839\n",
      "Epoch 192: saving model to Model/keypoint_classifier/keypoint_classifier.keras\n",
      "\u001b[1m36/36\u001b[0m \u001b[32m━━━━━━━━━━━━━━━━━━━━\u001b[0m\u001b[37m\u001b[0m \u001b[1m0s\u001b[0m 764us/step - accuracy: 0.8809 - loss: 0.3414 - val_accuracy: 0.9668 - val_loss: 0.1697\n",
      "Epoch 193/1000\n",
      "\u001b[1m 1/36\u001b[0m \u001b[37m━━━━━━━━━━━━━━━━━━━━\u001b[0m \u001b[1m0s\u001b[0m 6ms/step - accuracy: 0.8047 - loss: 0.4581\n",
      "Epoch 193: saving model to Model/keypoint_classifier/keypoint_classifier.keras\n",
      "\u001b[1m36/36\u001b[0m \u001b[32m━━━━━━━━━━━━━━━━━━━━\u001b[0m\u001b[37m\u001b[0m \u001b[1m0s\u001b[0m 752us/step - accuracy: 0.8724 - loss: 0.3573 - val_accuracy: 0.9674 - val_loss: 0.1657\n",
      "Epoch 194/1000\n",
      "\u001b[1m 1/36\u001b[0m \u001b[37m━━━━━━━━━━━━━━━━━━━━\u001b[0m \u001b[1m0s\u001b[0m 7ms/step - accuracy: 0.9062 - loss: 0.2846\n",
      "Epoch 194: saving model to Model/keypoint_classifier/keypoint_classifier.keras\n",
      "\u001b[1m36/36\u001b[0m \u001b[32m━━━━━━━━━━━━━━━━━━━━\u001b[0m\u001b[37m\u001b[0m \u001b[1m0s\u001b[0m 764us/step - accuracy: 0.8737 - loss: 0.3659 - val_accuracy: 0.9661 - val_loss: 0.1735\n",
      "Epoch 195/1000\n",
      "\u001b[1m 1/36\u001b[0m \u001b[37m━━━━━━━━━━━━━━━━━━━━\u001b[0m \u001b[1m0s\u001b[0m 6ms/step - accuracy: 0.8594 - loss: 0.3607\n",
      "Epoch 195: saving model to Model/keypoint_classifier/keypoint_classifier.keras\n",
      "\u001b[1m36/36\u001b[0m \u001b[32m━━━━━━━━━━━━━━━━━━━━\u001b[0m\u001b[37m\u001b[0m \u001b[1m0s\u001b[0m 753us/step - accuracy: 0.8657 - loss: 0.3721 - val_accuracy: 0.9661 - val_loss: 0.1778\n",
      "Epoch 196/1000\n",
      "\u001b[1m 1/36\u001b[0m \u001b[37m━━━━━━━━━━━━━━━━━━━━\u001b[0m \u001b[1m0s\u001b[0m 6ms/step - accuracy: 0.8906 - loss: 0.2994\n",
      "Epoch 196: saving model to Model/keypoint_classifier/keypoint_classifier.keras\n",
      "\u001b[1m36/36\u001b[0m \u001b[32m━━━━━━━━━━━━━━━━━━━━\u001b[0m\u001b[37m\u001b[0m \u001b[1m0s\u001b[0m 766us/step - accuracy: 0.8783 - loss: 0.3541 - val_accuracy: 0.9668 - val_loss: 0.1659\n",
      "Epoch 197/1000\n",
      "\u001b[1m 1/36\u001b[0m \u001b[37m━━━━━━━━━━━━━━━━━━━━\u001b[0m \u001b[1m0s\u001b[0m 7ms/step - accuracy: 0.9219 - loss: 0.2754\n",
      "Epoch 197: saving model to Model/keypoint_classifier/keypoint_classifier.keras\n",
      "\u001b[1m36/36\u001b[0m \u001b[32m━━━━━━━━━━━━━━━━━━━━\u001b[0m\u001b[37m\u001b[0m \u001b[1m0s\u001b[0m 740us/step - accuracy: 0.8781 - loss: 0.3500 - val_accuracy: 0.9674 - val_loss: 0.1675\n",
      "Epoch 198/1000\n",
      "\u001b[1m 1/36\u001b[0m \u001b[37m━━━━━━━━━━━━━━━━━━━━\u001b[0m \u001b[1m0s\u001b[0m 6ms/step - accuracy: 0.8359 - loss: 0.4839\n",
      "Epoch 198: saving model to Model/keypoint_classifier/keypoint_classifier.keras\n",
      "\u001b[1m36/36\u001b[0m \u001b[32m━━━━━━━━━━━━━━━━━━━━\u001b[0m\u001b[37m\u001b[0m \u001b[1m0s\u001b[0m 758us/step - accuracy: 0.8795 - loss: 0.3680 - val_accuracy: 0.9668 - val_loss: 0.1701\n",
      "Epoch 199/1000\n",
      "\u001b[1m 1/36\u001b[0m \u001b[37m━━━━━━━━━━━━━━━━━━━━\u001b[0m \u001b[1m0s\u001b[0m 7ms/step - accuracy: 0.8672 - loss: 0.3353\n",
      "Epoch 199: saving model to Model/keypoint_classifier/keypoint_classifier.keras\n",
      "\u001b[1m36/36\u001b[0m \u001b[32m━━━━━━━━━━━━━━━━━━━━\u001b[0m\u001b[37m\u001b[0m \u001b[1m0s\u001b[0m 751us/step - accuracy: 0.8698 - loss: 0.3603 - val_accuracy: 0.9668 - val_loss: 0.1679\n",
      "Epoch 200/1000\n",
      "\u001b[1m 1/36\u001b[0m \u001b[37m━━━━━━━━━━━━━━━━━━━━\u001b[0m \u001b[1m0s\u001b[0m 7ms/step - accuracy: 0.8672 - loss: 0.3566\n",
      "Epoch 200: saving model to Model/keypoint_classifier/keypoint_classifier.keras\n",
      "\u001b[1m36/36\u001b[0m \u001b[32m━━━━━━━━━━━━━━━━━━━━\u001b[0m\u001b[37m\u001b[0m \u001b[1m0s\u001b[0m 790us/step - accuracy: 0.8724 - loss: 0.3699 - val_accuracy: 0.9661 - val_loss: 0.1668\n",
      "Epoch 201/1000\n",
      "\u001b[1m 1/36\u001b[0m \u001b[37m━━━━━━━━━━━━━━━━━━━━\u001b[0m \u001b[1m0s\u001b[0m 6ms/step - accuracy: 0.8906 - loss: 0.3635\n",
      "Epoch 201: saving model to Model/keypoint_classifier/keypoint_classifier.keras\n",
      "\u001b[1m36/36\u001b[0m \u001b[32m━━━━━━━━━━━━━━━━━━━━\u001b[0m\u001b[37m\u001b[0m \u001b[1m0s\u001b[0m 764us/step - accuracy: 0.8712 - loss: 0.3637 - val_accuracy: 0.9681 - val_loss: 0.1681\n",
      "Epoch 202/1000\n",
      "\u001b[1m 1/36\u001b[0m \u001b[37m━━━━━━━━━━━━━━━━━━━━\u001b[0m \u001b[1m0s\u001b[0m 7ms/step - accuracy: 0.9141 - loss: 0.2626\n",
      "Epoch 202: saving model to Model/keypoint_classifier/keypoint_classifier.keras\n",
      "\u001b[1m36/36\u001b[0m \u001b[32m━━━━━━━━━━━━━━━━━━━━\u001b[0m\u001b[37m\u001b[0m \u001b[1m0s\u001b[0m 752us/step - accuracy: 0.8784 - loss: 0.3617 - val_accuracy: 0.9668 - val_loss: 0.1723\n",
      "Epoch 203/1000\n",
      "\u001b[1m 1/36\u001b[0m \u001b[37m━━━━━━━━━━━━━━━━━━━━\u001b[0m \u001b[1m0s\u001b[0m 6ms/step - accuracy: 0.8594 - loss: 0.3236\n",
      "Epoch 203: saving model to Model/keypoint_classifier/keypoint_classifier.keras\n",
      "\u001b[1m36/36\u001b[0m \u001b[32m━━━━━━━━━━━━━━━━━━━━\u001b[0m\u001b[37m\u001b[0m \u001b[1m0s\u001b[0m 766us/step - accuracy: 0.8781 - loss: 0.3484 - val_accuracy: 0.9674 - val_loss: 0.1593\n",
      "Epoch 204/1000\n",
      "\u001b[1m 1/36\u001b[0m \u001b[37m━━━━━━━━━━━━━━━━━━━━\u001b[0m \u001b[1m0s\u001b[0m 6ms/step - accuracy: 0.8438 - loss: 0.5156\n",
      "Epoch 204: saving model to Model/keypoint_classifier/keypoint_classifier.keras\n",
      "\u001b[1m36/36\u001b[0m \u001b[32m━━━━━━━━━━━━━━━━━━━━\u001b[0m\u001b[37m\u001b[0m \u001b[1m0s\u001b[0m 756us/step - accuracy: 0.8730 - loss: 0.3815 - val_accuracy: 0.9661 - val_loss: 0.1715\n",
      "Epoch 205/1000\n",
      "\u001b[1m 1/36\u001b[0m \u001b[37m━━━━━━━━━━━━━━━━━━━━\u001b[0m \u001b[1m0s\u001b[0m 7ms/step - accuracy: 0.8672 - loss: 0.3818\n",
      "Epoch 205: saving model to Model/keypoint_classifier/keypoint_classifier.keras\n",
      "\u001b[1m36/36\u001b[0m \u001b[32m━━━━━━━━━━━━━━━━━━━━\u001b[0m\u001b[37m\u001b[0m \u001b[1m0s\u001b[0m 763us/step - accuracy: 0.8716 - loss: 0.3730 - val_accuracy: 0.9674 - val_loss: 0.1637\n",
      "Epoch 206/1000\n",
      "\u001b[1m 1/36\u001b[0m \u001b[37m━━━━━━━━━━━━━━━━━━━━\u001b[0m \u001b[1m0s\u001b[0m 7ms/step - accuracy: 0.8594 - loss: 0.3578\n",
      "Epoch 206: saving model to Model/keypoint_classifier/keypoint_classifier.keras\n",
      "\u001b[1m36/36\u001b[0m \u001b[32m━━━━━━━━━━━━━━━━━━━━\u001b[0m\u001b[37m\u001b[0m \u001b[1m0s\u001b[0m 769us/step - accuracy: 0.8780 - loss: 0.3551 - val_accuracy: 0.9674 - val_loss: 0.1664\n",
      "Epoch 207/1000\n",
      "\u001b[1m 1/36\u001b[0m \u001b[37m━━━━━━━━━━━━━━━━━━━━\u001b[0m \u001b[1m0s\u001b[0m 7ms/step - accuracy: 0.9141 - loss: 0.2987\n",
      "Epoch 207: saving model to Model/keypoint_classifier/keypoint_classifier.keras\n",
      "\u001b[1m36/36\u001b[0m \u001b[32m━━━━━━━━━━━━━━━━━━━━\u001b[0m\u001b[37m\u001b[0m \u001b[1m0s\u001b[0m 816us/step - accuracy: 0.8869 - loss: 0.3358 - val_accuracy: 0.9674 - val_loss: 0.1676\n",
      "Epoch 208/1000\n",
      "\u001b[1m 1/36\u001b[0m \u001b[37m━━━━━━━━━━━━━━━━━━━━\u001b[0m \u001b[1m0s\u001b[0m 7ms/step - accuracy: 0.8438 - loss: 0.4789\n",
      "Epoch 208: saving model to Model/keypoint_classifier/keypoint_classifier.keras\n",
      "\u001b[1m36/36\u001b[0m \u001b[32m━━━━━━━━━━━━━━━━━━━━\u001b[0m\u001b[37m\u001b[0m \u001b[1m0s\u001b[0m 795us/step - accuracy: 0.8796 - loss: 0.3652 - val_accuracy: 0.9668 - val_loss: 0.1686\n",
      "Epoch 209/1000\n",
      "\u001b[1m 1/36\u001b[0m \u001b[37m━━━━━━━━━━━━━━━━━━━━\u001b[0m \u001b[1m0s\u001b[0m 7ms/step - accuracy: 0.8906 - loss: 0.3488\n",
      "Epoch 209: saving model to Model/keypoint_classifier/keypoint_classifier.keras\n",
      "\u001b[1m36/36\u001b[0m \u001b[32m━━━━━━━━━━━━━━━━━━━━\u001b[0m\u001b[37m\u001b[0m \u001b[1m0s\u001b[0m 792us/step - accuracy: 0.8848 - loss: 0.3513 - val_accuracy: 0.9674 - val_loss: 0.1674\n",
      "Epoch 210/1000\n",
      "\u001b[1m 1/36\u001b[0m \u001b[37m━━━━━━━━━━━━━━━━━━━━\u001b[0m \u001b[1m0s\u001b[0m 7ms/step - accuracy: 0.8984 - loss: 0.4397\n",
      "Epoch 210: saving model to Model/keypoint_classifier/keypoint_classifier.keras\n",
      "\u001b[1m36/36\u001b[0m \u001b[32m━━━━━━━━━━━━━━━━━━━━\u001b[0m\u001b[37m\u001b[0m \u001b[1m0s\u001b[0m 786us/step - accuracy: 0.8908 - loss: 0.3318 - val_accuracy: 0.9681 - val_loss: 0.1624\n",
      "Epoch 211/1000\n",
      "\u001b[1m 1/36\u001b[0m \u001b[37m━━━━━━━━━━━━━━━━━━━━\u001b[0m \u001b[1m0s\u001b[0m 7ms/step - accuracy: 0.8984 - loss: 0.3543\n",
      "Epoch 211: saving model to Model/keypoint_classifier/keypoint_classifier.keras\n",
      "\u001b[1m36/36\u001b[0m \u001b[32m━━━━━━━━━━━━━━━━━━━━\u001b[0m\u001b[37m\u001b[0m \u001b[1m0s\u001b[0m 782us/step - accuracy: 0.8840 - loss: 0.3560 - val_accuracy: 0.9701 - val_loss: 0.1594\n",
      "Epoch 212/1000\n",
      "\u001b[1m 1/36\u001b[0m \u001b[37m━━━━━━━━━━━━━━━━━━━━\u001b[0m \u001b[1m0s\u001b[0m 7ms/step - accuracy: 0.8750 - loss: 0.4363\n",
      "Epoch 212: saving model to Model/keypoint_classifier/keypoint_classifier.keras\n",
      "\u001b[1m36/36\u001b[0m \u001b[32m━━━━━━━━━━━━━━━━━━━━\u001b[0m\u001b[37m\u001b[0m \u001b[1m0s\u001b[0m 802us/step - accuracy: 0.8836 - loss: 0.3543 - val_accuracy: 0.9688 - val_loss: 0.1622\n",
      "Epoch 213/1000\n",
      "\u001b[1m 1/36\u001b[0m \u001b[37m━━━━━━━━━━━━━━━━━━━━\u001b[0m \u001b[1m0s\u001b[0m 6ms/step - accuracy: 0.8906 - loss: 0.3475\n",
      "Epoch 213: saving model to Model/keypoint_classifier/keypoint_classifier.keras\n",
      "\u001b[1m36/36\u001b[0m \u001b[32m━━━━━━━━━━━━━━━━━━━━\u001b[0m\u001b[37m\u001b[0m \u001b[1m0s\u001b[0m 779us/step - accuracy: 0.8780 - loss: 0.3683 - val_accuracy: 0.9694 - val_loss: 0.1644\n",
      "Epoch 214/1000\n",
      "\u001b[1m 1/36\u001b[0m \u001b[37m━━━━━━━━━━━━━━━━━━━━\u001b[0m \u001b[1m0s\u001b[0m 7ms/step - accuracy: 0.8438 - loss: 0.4863\n",
      "Epoch 214: saving model to Model/keypoint_classifier/keypoint_classifier.keras\n",
      "\u001b[1m36/36\u001b[0m \u001b[32m━━━━━━━━━━━━━━━━━━━━\u001b[0m\u001b[37m\u001b[0m \u001b[1m0s\u001b[0m 770us/step - accuracy: 0.8745 - loss: 0.3702 - val_accuracy: 0.9701 - val_loss: 0.1646\n",
      "Epoch 215/1000\n",
      "\u001b[1m 1/36\u001b[0m \u001b[37m━━━━━━━━━━━━━━━━━━━━\u001b[0m \u001b[1m0s\u001b[0m 7ms/step - accuracy: 0.8359 - loss: 0.3978\n",
      "Epoch 215: saving model to Model/keypoint_classifier/keypoint_classifier.keras\n",
      "\u001b[1m36/36\u001b[0m \u001b[32m━━━━━━━━━━━━━━━━━━━━\u001b[0m\u001b[37m\u001b[0m \u001b[1m0s\u001b[0m 763us/step - accuracy: 0.8827 - loss: 0.3498 - val_accuracy: 0.9681 - val_loss: 0.1621\n",
      "Epoch 216/1000\n",
      "\u001b[1m 1/36\u001b[0m \u001b[37m━━━━━━━━━━━━━━━━━━━━\u001b[0m \u001b[1m0s\u001b[0m 6ms/step - accuracy: 0.8750 - loss: 0.3419\n",
      "Epoch 216: saving model to Model/keypoint_classifier/keypoint_classifier.keras\n",
      "\u001b[1m36/36\u001b[0m \u001b[32m━━━━━━━━━━━━━━━━━━━━\u001b[0m\u001b[37m\u001b[0m \u001b[1m0s\u001b[0m 764us/step - accuracy: 0.8811 - loss: 0.3412 - val_accuracy: 0.9694 - val_loss: 0.1612\n",
      "Epoch 217/1000\n",
      "\u001b[1m 1/36\u001b[0m \u001b[37m━━━━━━━━━━━━━━━━━━━━\u001b[0m \u001b[1m0s\u001b[0m 7ms/step - accuracy: 0.9141 - loss: 0.2737\n",
      "Epoch 217: saving model to Model/keypoint_classifier/keypoint_classifier.keras\n",
      "\u001b[1m36/36\u001b[0m \u001b[32m━━━━━━━━━━━━━━━━━━━━\u001b[0m\u001b[37m\u001b[0m \u001b[1m0s\u001b[0m 750us/step - accuracy: 0.8833 - loss: 0.3471 - val_accuracy: 0.9688 - val_loss: 0.1644\n",
      "Epoch 218/1000\n",
      "\u001b[1m 1/36\u001b[0m \u001b[37m━━━━━━━━━━━━━━━━━━━━\u001b[0m \u001b[1m0s\u001b[0m 6ms/step - accuracy: 0.9141 - loss: 0.2428\n",
      "Epoch 218: saving model to Model/keypoint_classifier/keypoint_classifier.keras\n",
      "\u001b[1m36/36\u001b[0m \u001b[32m━━━━━━━━━━━━━━━━━━━━\u001b[0m\u001b[37m\u001b[0m \u001b[1m0s\u001b[0m 756us/step - accuracy: 0.8860 - loss: 0.3356 - val_accuracy: 0.9688 - val_loss: 0.1531\n",
      "Epoch 219/1000\n",
      "\u001b[1m 1/36\u001b[0m \u001b[37m━━━━━━━━━━━━━━━━━━━━\u001b[0m \u001b[1m0s\u001b[0m 7ms/step - accuracy: 0.8203 - loss: 0.3857\n",
      "Epoch 219: saving model to Model/keypoint_classifier/keypoint_classifier.keras\n",
      "\u001b[1m36/36\u001b[0m \u001b[32m━━━━━━━━━━━━━━━━━━━━\u001b[0m\u001b[37m\u001b[0m \u001b[1m0s\u001b[0m 760us/step - accuracy: 0.8898 - loss: 0.3269 - val_accuracy: 0.9688 - val_loss: 0.1599\n",
      "Epoch 220/1000\n",
      "\u001b[1m 1/36\u001b[0m \u001b[37m━━━━━━━━━━━━━━━━━━━━\u001b[0m \u001b[1m0s\u001b[0m 7ms/step - accuracy: 0.8438 - loss: 0.3993\n",
      "Epoch 220: saving model to Model/keypoint_classifier/keypoint_classifier.keras\n",
      "\u001b[1m36/36\u001b[0m \u001b[32m━━━━━━━━━━━━━━━━━━━━\u001b[0m\u001b[37m\u001b[0m \u001b[1m0s\u001b[0m 770us/step - accuracy: 0.8750 - loss: 0.3619 - val_accuracy: 0.9688 - val_loss: 0.1588\n",
      "Epoch 221/1000\n",
      "\u001b[1m 1/36\u001b[0m \u001b[37m━━━━━━━━━━━━━━━━━━━━\u001b[0m \u001b[1m0s\u001b[0m 7ms/step - accuracy: 0.8750 - loss: 0.2872\n",
      "Epoch 221: saving model to Model/keypoint_classifier/keypoint_classifier.keras\n",
      "\u001b[1m36/36\u001b[0m \u001b[32m━━━━━━━━━━━━━━━━━━━━\u001b[0m\u001b[37m\u001b[0m \u001b[1m0s\u001b[0m 786us/step - accuracy: 0.8806 - loss: 0.3490 - val_accuracy: 0.9674 - val_loss: 0.1559\n",
      "Epoch 222/1000\n",
      "\u001b[1m 1/36\u001b[0m \u001b[37m━━━━━━━━━━━━━━━━━━━━\u001b[0m \u001b[1m0s\u001b[0m 7ms/step - accuracy: 0.8516 - loss: 0.3780\n",
      "Epoch 222: saving model to Model/keypoint_classifier/keypoint_classifier.keras\n",
      "\u001b[1m36/36\u001b[0m \u001b[32m━━━━━━━━━━━━━━━━━━━━\u001b[0m\u001b[37m\u001b[0m \u001b[1m0s\u001b[0m 803us/step - accuracy: 0.8871 - loss: 0.3356 - val_accuracy: 0.9688 - val_loss: 0.1594\n",
      "Epoch 223/1000\n",
      "\u001b[1m 1/36\u001b[0m \u001b[37m━━━━━━━━━━━━━━━━━━━━\u001b[0m \u001b[1m0s\u001b[0m 7ms/step - accuracy: 0.8594 - loss: 0.3890\n",
      "Epoch 223: saving model to Model/keypoint_classifier/keypoint_classifier.keras\n",
      "\u001b[1m36/36\u001b[0m \u001b[32m━━━━━━━━━━━━━━━━━━━━\u001b[0m\u001b[37m\u001b[0m \u001b[1m0s\u001b[0m 805us/step - accuracy: 0.8786 - loss: 0.3337 - val_accuracy: 0.9681 - val_loss: 0.1585\n",
      "Epoch 224/1000\n",
      "\u001b[1m 1/36\u001b[0m \u001b[37m━━━━━━━━━━━━━━━━━━━━\u001b[0m \u001b[1m0s\u001b[0m 7ms/step - accuracy: 0.9141 - loss: 0.2802\n",
      "Epoch 224: saving model to Model/keypoint_classifier/keypoint_classifier.keras\n",
      "\u001b[1m36/36\u001b[0m \u001b[32m━━━━━━━━━━━━━━━━━━━━\u001b[0m\u001b[37m\u001b[0m \u001b[1m0s\u001b[0m 791us/step - accuracy: 0.8799 - loss: 0.3695 - val_accuracy: 0.9694 - val_loss: 0.1577\n",
      "Epoch 225/1000\n",
      "\u001b[1m 1/36\u001b[0m \u001b[37m━━━━━━━━━━━━━━━━━━━━\u001b[0m \u001b[1m0s\u001b[0m 7ms/step - accuracy: 0.8906 - loss: 0.3369\n",
      "Epoch 225: saving model to Model/keypoint_classifier/keypoint_classifier.keras\n",
      "\u001b[1m36/36\u001b[0m \u001b[32m━━━━━━━━━━━━━━━━━━━━\u001b[0m\u001b[37m\u001b[0m \u001b[1m0s\u001b[0m 801us/step - accuracy: 0.8795 - loss: 0.3593 - val_accuracy: 0.9694 - val_loss: 0.1628\n",
      "Epoch 226/1000\n",
      "\u001b[1m 1/36\u001b[0m \u001b[37m━━━━━━━━━━━━━━━━━━━━\u001b[0m \u001b[1m0s\u001b[0m 7ms/step - accuracy: 0.8594 - loss: 0.3814\n",
      "Epoch 226: saving model to Model/keypoint_classifier/keypoint_classifier.keras\n",
      "\u001b[1m36/36\u001b[0m \u001b[32m━━━━━━━━━━━━━━━━━━━━\u001b[0m\u001b[37m\u001b[0m \u001b[1m0s\u001b[0m 800us/step - accuracy: 0.8730 - loss: 0.3635 - val_accuracy: 0.9694 - val_loss: 0.1588\n",
      "Epoch 227/1000\n",
      "\u001b[1m 1/36\u001b[0m \u001b[37m━━━━━━━━━━━━━━━━━━━━\u001b[0m \u001b[1m0s\u001b[0m 7ms/step - accuracy: 0.8906 - loss: 0.3124\n",
      "Epoch 227: saving model to Model/keypoint_classifier/keypoint_classifier.keras\n",
      "\u001b[1m36/36\u001b[0m \u001b[32m━━━━━━━━━━━━━━━━━━━━\u001b[0m\u001b[37m\u001b[0m \u001b[1m0s\u001b[0m 788us/step - accuracy: 0.8845 - loss: 0.3397 - val_accuracy: 0.9688 - val_loss: 0.1611\n",
      "Epoch 228/1000\n",
      "\u001b[1m 1/36\u001b[0m \u001b[37m━━━━━━━━━━━━━━━━━━━━\u001b[0m \u001b[1m0s\u001b[0m 7ms/step - accuracy: 0.8672 - loss: 0.3678\n",
      "Epoch 228: saving model to Model/keypoint_classifier/keypoint_classifier.keras\n",
      "\u001b[1m36/36\u001b[0m \u001b[32m━━━━━━━━━━━━━━━━━━━━\u001b[0m\u001b[37m\u001b[0m \u001b[1m0s\u001b[0m 768us/step - accuracy: 0.8862 - loss: 0.3377 - val_accuracy: 0.9701 - val_loss: 0.1544\n",
      "Epoch 229/1000\n",
      "\u001b[1m 1/36\u001b[0m \u001b[37m━━━━━━━━━━━━━━━━━━━━\u001b[0m \u001b[1m0s\u001b[0m 7ms/step - accuracy: 0.8906 - loss: 0.2945\n",
      "Epoch 229: saving model to Model/keypoint_classifier/keypoint_classifier.keras\n",
      "\u001b[1m36/36\u001b[0m \u001b[32m━━━━━━━━━━━━━━━━━━━━\u001b[0m\u001b[37m\u001b[0m \u001b[1m0s\u001b[0m 752us/step - accuracy: 0.8816 - loss: 0.3444 - val_accuracy: 0.9701 - val_loss: 0.1540\n",
      "Epoch 230/1000\n",
      "\u001b[1m 1/36\u001b[0m \u001b[37m━━━━━━━━━━━━━━━━━━━━\u001b[0m \u001b[1m0s\u001b[0m 6ms/step - accuracy: 0.8359 - loss: 0.3978\n",
      "Epoch 230: saving model to Model/keypoint_classifier/keypoint_classifier.keras\n",
      "\u001b[1m36/36\u001b[0m \u001b[32m━━━━━━━━━━━━━━━━━━━━\u001b[0m\u001b[37m\u001b[0m \u001b[1m0s\u001b[0m 765us/step - accuracy: 0.8687 - loss: 0.3633 - val_accuracy: 0.9681 - val_loss: 0.1634\n",
      "Epoch 231/1000\n",
      "\u001b[1m 1/36\u001b[0m \u001b[37m━━━━━━━━━━━━━━━━━━━━\u001b[0m \u001b[1m0s\u001b[0m 6ms/step - accuracy: 0.8984 - loss: 0.2585\n",
      "Epoch 231: saving model to Model/keypoint_classifier/keypoint_classifier.keras\n",
      "\u001b[1m36/36\u001b[0m \u001b[32m━━━━━━━━━━━━━━━━━━━━\u001b[0m\u001b[37m\u001b[0m \u001b[1m0s\u001b[0m 759us/step - accuracy: 0.8881 - loss: 0.3254 - val_accuracy: 0.9688 - val_loss: 0.1549\n",
      "Epoch 232/1000\n",
      "\u001b[1m 1/36\u001b[0m \u001b[37m━━━━━━━━━━━━━━━━━━━━\u001b[0m \u001b[1m0s\u001b[0m 7ms/step - accuracy: 0.8672 - loss: 0.4195\n",
      "Epoch 232: saving model to Model/keypoint_classifier/keypoint_classifier.keras\n",
      "\u001b[1m36/36\u001b[0m \u001b[32m━━━━━━━━━━━━━━━━━━━━\u001b[0m\u001b[37m\u001b[0m \u001b[1m0s\u001b[0m 755us/step - accuracy: 0.8789 - loss: 0.3654 - val_accuracy: 0.9701 - val_loss: 0.1573\n",
      "Epoch 233/1000\n",
      "\u001b[1m 1/36\u001b[0m \u001b[37m━━━━━━━━━━━━━━━━━━━━\u001b[0m \u001b[1m0s\u001b[0m 6ms/step - accuracy: 0.9062 - loss: 0.3300\n",
      "Epoch 233: saving model to Model/keypoint_classifier/keypoint_classifier.keras\n",
      "\u001b[1m36/36\u001b[0m \u001b[32m━━━━━━━━━━━━━━━━━━━━\u001b[0m\u001b[37m\u001b[0m \u001b[1m0s\u001b[0m 760us/step - accuracy: 0.8854 - loss: 0.3596 - val_accuracy: 0.9681 - val_loss: 0.1608\n",
      "Epoch 234/1000\n",
      "\u001b[1m 1/36\u001b[0m \u001b[37m━━━━━━━━━━━━━━━━━━━━\u001b[0m \u001b[1m0s\u001b[0m 7ms/step - accuracy: 0.8672 - loss: 0.3288\n",
      "Epoch 234: saving model to Model/keypoint_classifier/keypoint_classifier.keras\n",
      "\u001b[1m36/36\u001b[0m \u001b[32m━━━━━━━━━━━━━━━━━━━━\u001b[0m\u001b[37m\u001b[0m \u001b[1m0s\u001b[0m 764us/step - accuracy: 0.8762 - loss: 0.3656 - val_accuracy: 0.9688 - val_loss: 0.1539\n",
      "Epoch 235/1000\n",
      "\u001b[1m 1/36\u001b[0m \u001b[37m━━━━━━━━━━━━━━━━━━━━\u001b[0m \u001b[1m0s\u001b[0m 6ms/step - accuracy: 0.9141 - loss: 0.2156\n",
      "Epoch 235: saving model to Model/keypoint_classifier/keypoint_classifier.keras\n",
      "\u001b[1m36/36\u001b[0m \u001b[32m━━━━━━━━━━━━━━━━━━━━\u001b[0m\u001b[37m\u001b[0m \u001b[1m0s\u001b[0m 772us/step - accuracy: 0.8838 - loss: 0.3443 - val_accuracy: 0.9694 - val_loss: 0.1595\n",
      "Epoch 236/1000\n",
      "\u001b[1m 1/36\u001b[0m \u001b[37m━━━━━━━━━━━━━━━━━━━━\u001b[0m \u001b[1m0s\u001b[0m 6ms/step - accuracy: 0.8750 - loss: 0.3889\n",
      "Epoch 236: saving model to Model/keypoint_classifier/keypoint_classifier.keras\n",
      "\u001b[1m36/36\u001b[0m \u001b[32m━━━━━━━━━━━━━━━━━━━━\u001b[0m\u001b[37m\u001b[0m \u001b[1m0s\u001b[0m 797us/step - accuracy: 0.8730 - loss: 0.3794 - val_accuracy: 0.9694 - val_loss: 0.1585\n",
      "Epoch 237/1000\n",
      "\u001b[1m 1/36\u001b[0m \u001b[37m━━━━━━━━━━━━━━━━━━━━\u001b[0m \u001b[1m0s\u001b[0m 7ms/step - accuracy: 0.8594 - loss: 0.4427\n",
      "Epoch 237: saving model to Model/keypoint_classifier/keypoint_classifier.keras\n",
      "\u001b[1m36/36\u001b[0m \u001b[32m━━━━━━━━━━━━━━━━━━━━\u001b[0m\u001b[37m\u001b[0m \u001b[1m0s\u001b[0m 792us/step - accuracy: 0.8833 - loss: 0.3358 - val_accuracy: 0.9681 - val_loss: 0.1578\n",
      "Epoch 238/1000\n",
      "\u001b[1m 1/36\u001b[0m \u001b[37m━━━━━━━━━━━━━━━━━━━━\u001b[0m \u001b[1m0s\u001b[0m 7ms/step - accuracy: 0.8594 - loss: 0.3597\n",
      "Epoch 238: saving model to Model/keypoint_classifier/keypoint_classifier.keras\n",
      "\u001b[1m36/36\u001b[0m \u001b[32m━━━━━━━━━━━━━━━━━━━━\u001b[0m\u001b[37m\u001b[0m \u001b[1m0s\u001b[0m 822us/step - accuracy: 0.8740 - loss: 0.3453 - val_accuracy: 0.9688 - val_loss: 0.1587\n",
      "Epoch 238: early stopping\n"
     ]
    },
    {
     "data": {
      "text/plain": [
       "<keras.src.callbacks.history.History at 0x28a0b9af0>"
      ]
     },
     "execution_count": 11,
     "metadata": {},
     "output_type": "execute_result"
    }
   ],
   "source": [
    "model.fit(\n",
    "    X_train,\n",
    "    y_train,\n",
    "    epochs=1000,\n",
    "    batch_size=128,\n",
    "    validation_data=(X_test, y_test),\n",
    "    callbacks=[cp_callback, es_callback]\n",
    ")"
   ]
  },
  {
   "cell_type": "code",
   "execution_count": 12,
   "metadata": {
    "colab": {
     "base_uri": "https://localhost:8080/"
    },
    "id": "pxvb2Y299hE3",
    "outputId": "59eb3185-2e37-4b9e-bc9d-ab1b8ac29b7f"
   },
   "outputs": [
    {
     "name": "stdout",
     "output_type": "stream",
     "text": [
      "\u001b[1m12/12\u001b[0m \u001b[32m━━━━━━━━━━━━━━━━━━━━\u001b[0m\u001b[37m\u001b[0m \u001b[1m0s\u001b[0m 318us/step - accuracy: 0.9684 - loss: 0.1631\n"
     ]
    }
   ],
   "source": [
    "# Model evaluation\n",
    "val_loss, val_acc = model.evaluate(X_test, y_test, batch_size=128)"
   ]
  },
  {
   "cell_type": "code",
   "execution_count": 13,
   "metadata": {
    "id": "RBkmDeUW9hE4"
   },
   "outputs": [],
   "source": [
    "# Loading the saved model\n",
    "model = tf.keras.models.load_model(model_save_path)"
   ]
  },
  {
   "cell_type": "code",
   "execution_count": 14,
   "metadata": {
    "colab": {
     "base_uri": "https://localhost:8080/"
    },
    "id": "tFz9Tb0I9hE4",
    "outputId": "1c3b3528-54ae-4ee2-ab04-77429211cbef"
   },
   "outputs": [
    {
     "name": "stdout",
     "output_type": "stream",
     "text": [
      "\u001b[1m1/1\u001b[0m \u001b[32m━━━━━━━━━━━━━━━━━━━━\u001b[0m\u001b[37m\u001b[0m \u001b[1m0s\u001b[0m 16ms/step\n",
      "[6.7045460e-03 4.0246407e-03 2.6646152e-03 9.8660618e-01 5.3945076e-08]\n",
      "3\n"
     ]
    }
   ],
   "source": [
    "# Inference test\n",
    "predict_result = model.predict(np.array([X_test[0]]))\n",
    "print(np.squeeze(predict_result))\n",
    "print(np.argmax(np.squeeze(predict_result)))"
   ]
  },
  {
   "cell_type": "markdown",
   "metadata": {
    "id": "S3U4yNWx9hE4"
   },
   "source": [
    "# Confusion matrix"
   ]
  },
  {
   "cell_type": "code",
   "execution_count": 15,
   "metadata": {
    "colab": {
     "base_uri": "https://localhost:8080/",
     "height": 582
    },
    "id": "AP1V6SCk9hE5",
    "outputId": "08e41a80-7a4a-4619-8125-ecc371368d19"
   },
   "outputs": [
    {
     "name": "stdout",
     "output_type": "stream",
     "text": [
      "\u001b[1m48/48\u001b[0m \u001b[32m━━━━━━━━━━━━━━━━━━━━\u001b[0m\u001b[37m\u001b[0m \u001b[1m0s\u001b[0m 228us/step\n"
     ]
    },
    {
     "data": {
      "image/png": "[encoded data removed]",
      "text/plain": [
       "<Figure size 700x600 with 2 Axes>"
      ]
     },
     "metadata": {},
     "output_type": "display_data"
    },
    {
     "name": "stdout",
     "output_type": "stream",
     "text": [
      "Classification Report\n",
      "              precision    recall  f1-score   support\n",
      "\n",
      "           0       0.98      0.99      0.99       210\n",
      "           1       0.96      0.96      0.96       319\n",
      "           2       1.00      0.92      0.96       355\n",
      "           3       0.98      0.99      0.99       364\n",
      "           4       0.93      0.99      0.96       257\n",
      "\n",
      "    accuracy                           0.97      1505\n",
      "   macro avg       0.97      0.97      0.97      1505\n",
      "weighted avg       0.97      0.97      0.97      1505\n",
      "\n"
     ]
    }
   ],
   "source": [
    "import pandas as pd\n",
    "import seaborn as sns\n",
    "import matplotlib.pyplot as plt\n",
    "from sklearn.metrics import confusion_matrix, classification_report\n",
    "\n",
    "def print_confusion_matrix(y_true, y_pred, report=True):\n",
    "    labels = sorted(list(set(y_true)))\n",
    "    cmx_data = confusion_matrix(y_true, y_pred, labels=labels)\n",
    "    \n",
    "    df_cmx = pd.DataFrame(cmx_data, index=labels, columns=labels)\n",
    " \n",
    "    fig, ax = plt.subplots(figsize=(7, 6))\n",
    "    sns.heatmap(df_cmx, annot=True, fmt='g' ,square=False)\n",
    "    ax.set_ylim(len(set(y_true)), 0)\n",
    "    plt.show()\n",
    "    \n",
    "    if report:\n",
    "        print('Classification Report')\n",
    "        print(classification_report(y_test, y_pred))\n",
    "\n",
    "Y_pred = model.predict(X_test)\n",
    "y_pred = np.argmax(Y_pred, axis=1)\n",
    "\n",
    "print_confusion_matrix(y_test, y_pred)"
   ]
  },
  {
   "cell_type": "markdown",
   "metadata": {
    "id": "FNP6aqzc9hE5"
   },
   "source": [
    "# Convert to model for Tensorflow-Lite"
   ]
  },
  {
   "cell_type": "code",
   "execution_count": 16,
   "metadata": {
    "id": "ODjnYyld9hE6"
   },
   "outputs": [],
   "source": [
    "# Save as a model dedicated to inference\n",
    "model.save(model_save_path, include_optimizer=False)"
   ]
  },
  {
   "cell_type": "code",
   "execution_count": 17,
   "metadata": {
    "colab": {
     "base_uri": "https://localhost:8080/"
    },
    "id": "zRfuK8Y59hE6",
    "outputId": "a4ca585c-b5d5-4244-8291-8674063209bb"
   },
   "outputs": [
    {
     "name": "stdout",
     "output_type": "stream",
     "text": [
      "INFO:tensorflow:Assets written to: /var/folders/ph/63wdrn194f301kf6r4tx9z1c0000gn/T/tmpxls126j7/assets\n"
     ]
    },
    {
     "name": "stderr",
     "output_type": "stream",
     "text": [
      "INFO:tensorflow:Assets written to: /var/folders/ph/63wdrn194f301kf6r4tx9z1c0000gn/T/tmpxls126j7/assets\n"
     ]
    },
    {
     "name": "stdout",
     "output_type": "stream",
     "text": [
      "Saved artifact at '/var/folders/ph/63wdrn194f301kf6r4tx9z1c0000gn/T/tmpxls126j7'. The following endpoints are available:\n",
      "\n",
      "* Endpoint 'serve'\n",
      "  args_0 (POSITIONAL_ONLY): TensorSpec(shape=(None, 42), dtype=tf.float32, name='input_layer')\n",
      "Output Type:\n",
      "  TensorSpec(shape=(None, 5), dtype=tf.float32, name=None)\n",
      "Captures:\n",
      "  10905993296: TensorSpec(shape=(), dtype=tf.resource, name=None)\n",
      "  10905999248: TensorSpec(shape=(), dtype=tf.resource, name=None)\n",
      "  10905995792: TensorSpec(shape=(), dtype=tf.resource, name=None)\n",
      "  10906008272: TensorSpec(shape=(), dtype=tf.resource, name=None)\n",
      "  10906009424: TensorSpec(shape=(), dtype=tf.resource, name=None)\n",
      "  10906008848: TensorSpec(shape=(), dtype=tf.resource, name=None)\n"
     ]
    },
    {
     "name": "stderr",
     "output_type": "stream",
     "text": [
      "WARNING: All log messages before absl::InitializeLog() is called are written to STDERR\n",
      "W0000 00:00:1727371557.212180   72198 tf_tfl_flatbuffer_helpers.cc:392] Ignored output_format.\n",
      "W0000 00:00:1727371557.212193   72198 tf_tfl_flatbuffer_helpers.cc:395] Ignored drop_control_dependency.\n"
     ]
    },
    {
     "data": {
      "text/plain": [
       "6580"
      ]
     },
     "execution_count": 17,
     "metadata": {},
     "output_type": "execute_result"
    }
   ],
   "source": [
    "# Transform model (quantization)\n",
    "\n",
    "converter = tf.lite.TFLiteConverter.from_keras_model(model)\n",
    "converter.optimizations = [tf.lite.Optimize.DEFAULT]\n",
    "tflite_quantized_model = converter.convert()\n",
    "\n",
    "open(tflite_save_path, 'wb').write(tflite_quantized_model)"
   ]
  },
  {
   "cell_type": "markdown",
   "metadata": {
    "id": "CHBPBXdx9hE6"
   },
   "source": [
    "# Inference test"
   ]
  },
  {
   "cell_type": "code",
   "execution_count": 18,
   "metadata": {
    "id": "mGAzLocO9hE7"
   },
   "outputs": [
    {
     "name": "stderr",
     "output_type": "stream",
     "text": [
      "INFO: Created TensorFlow Lite XNNPACK delegate for CPU.\n"
     ]
    }
   ],
   "source": [
    "interpreter = tf.lite.Interpreter(model_path=tflite_save_path)\n",
    "interpreter.allocate_tensors()"
   ]
  },
  {
   "cell_type": "code",
   "execution_count": 19,
   "metadata": {
    "id": "oQuDK8YS9hE7"
   },
   "outputs": [],
   "source": [
    "# Get I / O tensor\n",
    "input_details = interpreter.get_input_details()\n",
    "output_details = interpreter.get_output_details()"
   ]
  },
  {
   "cell_type": "code",
   "execution_count": 20,
   "metadata": {
    "id": "2_ixAf_l9hE7"
   },
   "outputs": [],
   "source": [
    "interpreter.set_tensor(input_details[0]['index'], np.array([X_test[0]]))"
   ]
  },
  {
   "cell_type": "code",
   "execution_count": 21,
   "metadata": {
    "colab": {
     "base_uri": "https://localhost:8080/"
    },
    "id": "s4FoAnuc9hE7",
    "outputId": "91f18257-8d8b-4ef3-c558-e9b5f94fabbf",
    "scrolled": true
   },
   "outputs": [
    {
     "name": "stdout",
     "output_type": "stream",
     "text": [
      "CPU times: user 1.36 ms, sys: 49 μs, total: 1.41 ms\n",
      "Wall time: 89.9 μs\n"
     ]
    }
   ],
   "source": [
    "%%time\n",
    "# Inference implementation\n",
    "interpreter.invoke()\n",
    "tflite_results = interpreter.get_tensor(output_details[0]['index'])"
   ]
  },
  {
   "cell_type": "code",
   "execution_count": 22,
   "metadata": {
    "colab": {
     "base_uri": "https://localhost:8080/"
    },
    "id": "vONjp19J9hE8",
    "outputId": "77205e24-fd00-42c4-f7b6-e06e527c2cba"
   },
   "outputs": [
    {
     "name": "stdout",
     "output_type": "stream",
     "text": [
      "[6.7045400e-03 4.0246365e-03 2.6646154e-03 9.8660618e-01 5.3944973e-08]\n",
      "3\n"
     ]
    }
   ],
   "source": [
    "print(np.squeeze(tflite_results))\n",
    "print(np.argmax(np.squeeze(tflite_results)))"
   ]
  }
 ],
 "metadata": {
  "accelerator": "GPU",
  "colab": {
   "collapsed_sections": [],
   "name": "keypoint_classification_EN.ipynb",
   "provenance": [],
   "toc_visible": true
  },
  "kernelspec": {
   "display_name": "Python 3 (ipykernel)",
   "language": "python",
   "name": "python3"
  },
  "language_info": {
   "codemirror_mode": {
    "name": "ipython",
    "version": 3
   },
   "file_extension": ".py",
   "mimetype": "text/x-python",
   "name": "python",
   "nbconvert_exporter": "python",
   "pygments_lexer": "ipython3",
   "version": "3.12.5"
  }
 },
 "nbformat": 4,
 "nbformat_minor": 4
}
